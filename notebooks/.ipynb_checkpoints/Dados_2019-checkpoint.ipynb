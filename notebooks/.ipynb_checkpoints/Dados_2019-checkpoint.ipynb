{
 "cells": [
  {
   "cell_type": "markdown",
   "metadata": {},
   "source": [
    "## Bibliotecas"
   ]
  },
  {
   "cell_type": "code",
   "execution_count": 1,
   "metadata": {},
   "outputs": [],
   "source": [
    "import pandas as pd\n",
    "import numpy as np"
   ]
  },
  {
   "cell_type": "markdown",
   "metadata": {},
   "source": [
    "## Leitura dos Dados"
   ]
  },
  {
   "cell_type": "code",
   "execution_count": 2,
   "metadata": {},
   "outputs": [],
   "source": [
    "Games_dados = pd.read_csv(\"../dados/vgsales-12-4-2019.csv\")"
   ]
  },
  {
   "cell_type": "markdown",
   "metadata": {},
   "source": [
    "## Explorando os Dados"
   ]
  },
  {
   "cell_type": "code",
   "execution_count": 3,
   "metadata": {},
   "outputs": [
    {
     "data": {
      "text/html": [
       "<div>\n",
       "<style scoped>\n",
       "    .dataframe tbody tr th:only-of-type {\n",
       "        vertical-align: middle;\n",
       "    }\n",
       "\n",
       "    .dataframe tbody tr th {\n",
       "        vertical-align: top;\n",
       "    }\n",
       "\n",
       "    .dataframe thead th {\n",
       "        text-align: right;\n",
       "    }\n",
       "</style>\n",
       "<table border=\"1\" class=\"dataframe\">\n",
       "  <thead>\n",
       "    <tr style=\"text-align: right;\">\n",
       "      <th></th>\n",
       "      <th>Rank</th>\n",
       "      <th>Name</th>\n",
       "      <th>basename</th>\n",
       "      <th>Genre</th>\n",
       "      <th>ESRB_Rating</th>\n",
       "      <th>Platform</th>\n",
       "      <th>Publisher</th>\n",
       "      <th>Developer</th>\n",
       "      <th>VGChartz_Score</th>\n",
       "      <th>Critic_Score</th>\n",
       "      <th>...</th>\n",
       "      <th>NA_Sales</th>\n",
       "      <th>PAL_Sales</th>\n",
       "      <th>JP_Sales</th>\n",
       "      <th>Other_Sales</th>\n",
       "      <th>Year</th>\n",
       "      <th>Last_Update</th>\n",
       "      <th>url</th>\n",
       "      <th>status</th>\n",
       "      <th>Vgchartzscore</th>\n",
       "      <th>img_url</th>\n",
       "    </tr>\n",
       "  </thead>\n",
       "  <tbody>\n",
       "    <tr>\n",
       "      <th>0</th>\n",
       "      <td>1</td>\n",
       "      <td>Wii Sports</td>\n",
       "      <td>wii-sports</td>\n",
       "      <td>Sports</td>\n",
       "      <td>E</td>\n",
       "      <td>Wii</td>\n",
       "      <td>Nintendo</td>\n",
       "      <td>Nintendo EAD</td>\n",
       "      <td>NaN</td>\n",
       "      <td>7.7</td>\n",
       "      <td>...</td>\n",
       "      <td>NaN</td>\n",
       "      <td>NaN</td>\n",
       "      <td>NaN</td>\n",
       "      <td>NaN</td>\n",
       "      <td>2006.0</td>\n",
       "      <td>NaN</td>\n",
       "      <td>http://www.vgchartz.com/game/2667/wii-sports/?...</td>\n",
       "      <td>1</td>\n",
       "      <td>NaN</td>\n",
       "      <td>/games/boxart/full_2258645AmericaFrontccc.jpg</td>\n",
       "    </tr>\n",
       "    <tr>\n",
       "      <th>1</th>\n",
       "      <td>2</td>\n",
       "      <td>Super Mario Bros.</td>\n",
       "      <td>super-mario-bros</td>\n",
       "      <td>Platform</td>\n",
       "      <td>NaN</td>\n",
       "      <td>NES</td>\n",
       "      <td>Nintendo</td>\n",
       "      <td>Nintendo EAD</td>\n",
       "      <td>NaN</td>\n",
       "      <td>10.0</td>\n",
       "      <td>...</td>\n",
       "      <td>NaN</td>\n",
       "      <td>NaN</td>\n",
       "      <td>NaN</td>\n",
       "      <td>NaN</td>\n",
       "      <td>1985.0</td>\n",
       "      <td>NaN</td>\n",
       "      <td>http://www.vgchartz.com/game/6455/super-mario-...</td>\n",
       "      <td>1</td>\n",
       "      <td>NaN</td>\n",
       "      <td>/games/boxart/8972270ccc.jpg</td>\n",
       "    </tr>\n",
       "    <tr>\n",
       "      <th>2</th>\n",
       "      <td>3</td>\n",
       "      <td>Mario Kart Wii</td>\n",
       "      <td>mario-kart-wii</td>\n",
       "      <td>Racing</td>\n",
       "      <td>E</td>\n",
       "      <td>Wii</td>\n",
       "      <td>Nintendo</td>\n",
       "      <td>Nintendo EAD</td>\n",
       "      <td>NaN</td>\n",
       "      <td>8.2</td>\n",
       "      <td>...</td>\n",
       "      <td>NaN</td>\n",
       "      <td>NaN</td>\n",
       "      <td>NaN</td>\n",
       "      <td>NaN</td>\n",
       "      <td>2008.0</td>\n",
       "      <td>11th Apr 18</td>\n",
       "      <td>http://www.vgchartz.com/game/6968/mario-kart-w...</td>\n",
       "      <td>1</td>\n",
       "      <td>8.7</td>\n",
       "      <td>/games/boxart/full_8932480AmericaFrontccc.jpg</td>\n",
       "    </tr>\n",
       "    <tr>\n",
       "      <th>3</th>\n",
       "      <td>4</td>\n",
       "      <td>PlayerUnknown's Battlegrounds</td>\n",
       "      <td>playerunknowns-battlegrounds</td>\n",
       "      <td>Shooter</td>\n",
       "      <td>NaN</td>\n",
       "      <td>PC</td>\n",
       "      <td>PUBG Corporation</td>\n",
       "      <td>PUBG Corporation</td>\n",
       "      <td>NaN</td>\n",
       "      <td>NaN</td>\n",
       "      <td>...</td>\n",
       "      <td>NaN</td>\n",
       "      <td>NaN</td>\n",
       "      <td>NaN</td>\n",
       "      <td>NaN</td>\n",
       "      <td>2017.0</td>\n",
       "      <td>13th Nov 18</td>\n",
       "      <td>http://www.vgchartz.com/game/215988/playerunkn...</td>\n",
       "      <td>1</td>\n",
       "      <td>NaN</td>\n",
       "      <td>/games/boxart/full_8052843AmericaFrontccc.jpg</td>\n",
       "    </tr>\n",
       "    <tr>\n",
       "      <th>4</th>\n",
       "      <td>5</td>\n",
       "      <td>Wii Sports Resort</td>\n",
       "      <td>wii-sports-resort</td>\n",
       "      <td>Sports</td>\n",
       "      <td>E</td>\n",
       "      <td>Wii</td>\n",
       "      <td>Nintendo</td>\n",
       "      <td>Nintendo EAD</td>\n",
       "      <td>NaN</td>\n",
       "      <td>8.0</td>\n",
       "      <td>...</td>\n",
       "      <td>NaN</td>\n",
       "      <td>NaN</td>\n",
       "      <td>NaN</td>\n",
       "      <td>NaN</td>\n",
       "      <td>2009.0</td>\n",
       "      <td>NaN</td>\n",
       "      <td>http://www.vgchartz.com/game/24656/wii-sports-...</td>\n",
       "      <td>1</td>\n",
       "      <td>8.8</td>\n",
       "      <td>/games/boxart/full_7295041AmericaFrontccc.jpg</td>\n",
       "    </tr>\n",
       "  </tbody>\n",
       "</table>\n",
       "<p>5 rows × 23 columns</p>\n",
       "</div>"
      ],
      "text/plain": [
       "   Rank                           Name                      basename  \\\n",
       "0     1                     Wii Sports                    wii-sports   \n",
       "1     2              Super Mario Bros.              super-mario-bros   \n",
       "2     3                 Mario Kart Wii                mario-kart-wii   \n",
       "3     4  PlayerUnknown's Battlegrounds  playerunknowns-battlegrounds   \n",
       "4     5              Wii Sports Resort             wii-sports-resort   \n",
       "\n",
       "      Genre ESRB_Rating Platform         Publisher         Developer  \\\n",
       "0    Sports           E      Wii          Nintendo      Nintendo EAD   \n",
       "1  Platform         NaN      NES          Nintendo      Nintendo EAD   \n",
       "2    Racing           E      Wii          Nintendo      Nintendo EAD   \n",
       "3   Shooter         NaN       PC  PUBG Corporation  PUBG Corporation   \n",
       "4    Sports           E      Wii          Nintendo      Nintendo EAD   \n",
       "\n",
       "   VGChartz_Score  Critic_Score  ...  NA_Sales  PAL_Sales  JP_Sales  \\\n",
       "0             NaN           7.7  ...       NaN        NaN       NaN   \n",
       "1             NaN          10.0  ...       NaN        NaN       NaN   \n",
       "2             NaN           8.2  ...       NaN        NaN       NaN   \n",
       "3             NaN           NaN  ...       NaN        NaN       NaN   \n",
       "4             NaN           8.0  ...       NaN        NaN       NaN   \n",
       "\n",
       "   Other_Sales    Year  Last_Update  \\\n",
       "0          NaN  2006.0          NaN   \n",
       "1          NaN  1985.0          NaN   \n",
       "2          NaN  2008.0  11th Apr 18   \n",
       "3          NaN  2017.0  13th Nov 18   \n",
       "4          NaN  2009.0          NaN   \n",
       "\n",
       "                                                 url  status Vgchartzscore  \\\n",
       "0  http://www.vgchartz.com/game/2667/wii-sports/?...       1           NaN   \n",
       "1  http://www.vgchartz.com/game/6455/super-mario-...       1           NaN   \n",
       "2  http://www.vgchartz.com/game/6968/mario-kart-w...       1           8.7   \n",
       "3  http://www.vgchartz.com/game/215988/playerunkn...       1           NaN   \n",
       "4  http://www.vgchartz.com/game/24656/wii-sports-...       1           8.8   \n",
       "\n",
       "                                         img_url  \n",
       "0  /games/boxart/full_2258645AmericaFrontccc.jpg  \n",
       "1                   /games/boxart/8972270ccc.jpg  \n",
       "2  /games/boxart/full_8932480AmericaFrontccc.jpg  \n",
       "3  /games/boxart/full_8052843AmericaFrontccc.jpg  \n",
       "4  /games/boxart/full_7295041AmericaFrontccc.jpg  \n",
       "\n",
       "[5 rows x 23 columns]"
      ]
     },
     "execution_count": 3,
     "metadata": {},
     "output_type": "execute_result"
    }
   ],
   "source": [
    "Games_dados.head()"
   ]
  },
  {
   "cell_type": "markdown",
   "metadata": {},
   "source": [
    "### Verificando a distribuição do total de vendas"
   ]
  },
  {
   "cell_type": "code",
   "execution_count": 4,
   "metadata": {},
   "outputs": [
    {
     "data": {
      "text/plain": [
       "0.3655029616276456"
      ]
     },
     "execution_count": 4,
     "metadata": {},
     "output_type": "execute_result"
    }
   ],
   "source": [
    "Games_dados.Global_Sales.mean()"
   ]
  },
  {
   "cell_type": "code",
   "execution_count": 5,
   "metadata": {},
   "outputs": [
    {
     "data": {
      "text/plain": [
       "0.12"
      ]
     },
     "execution_count": 5,
     "metadata": {},
     "output_type": "execute_result"
    }
   ],
   "source": [
    "Games_dados.Global_Sales.median()"
   ]
  },
  {
   "cell_type": "code",
   "execution_count": 6,
   "metadata": {},
   "outputs": [
    {
     "data": {
      "text/plain": [
       "count    19415.000000\n",
       "mean         0.365503\n",
       "std          0.833022\n",
       "min          0.000000\n",
       "25%          0.030000\n",
       "50%          0.120000\n",
       "75%          0.360000\n",
       "max         20.320000\n",
       "Name: Global_Sales, dtype: float64"
      ]
     },
     "execution_count": 6,
     "metadata": {},
     "output_type": "execute_result"
    }
   ],
   "source": [
    "Games_dados.Global_Sales.describe()"
   ]
  },
  {
   "cell_type": "code",
   "execution_count": 8,
   "metadata": {},
   "outputs": [
    {
     "data": {
      "text/plain": [
       "<matplotlib.axes._subplots.AxesSubplot at 0x290117b9dd8>"
      ]
     },
     "execution_count": 8,
     "metadata": {},
     "output_type": "execute_result"
    },
    {
     "data": {
      "image/png": "[encoded data removed]",
      "text/plain": [
       "<Figure size 432x288 with 1 Axes>"
      ]
     },
     "metadata": {
      "needs_background": "light"
     },
     "output_type": "display_data"
    }
   ],
   "source": [
    "Games_dados['Global_Sales'].hist()"
   ]
  },
  {
   "cell_type": "code",
   "execution_count": 10,
   "metadata": {},
   "outputs": [
    {
     "data": {
      "text/plain": [
       "<matplotlib.axes._subplots.AxesSubplot at 0x2901867de10>"
      ]
     },
     "execution_count": 10,
     "metadata": {},
     "output_type": "execute_result"
    },
    {
     "data": {
      "image/png": "[encoded data removed]",
      "text/plain": [
       "<Figure size 432x288 with 1 Axes>"
      ]
     },
     "metadata": {
      "needs_background": "light"
     },
     "output_type": "display_data"
    }
   ],
   "source": [
    "Games_dados['Log_Global_Sales'] = Games_dados['Global_Sales'].apply(np.log10)\n",
    "Games_dados[Games_dados['Log_Global_Sales'] > 0]['Log_Global_Sales'].hist()"
   ]
  },
  {
   "cell_type": "markdown",
   "metadata": {},
   "source": [
    "### Verificando o Gênero/Plataforma com maior presença no dataset"
   ]
  },
  {
   "cell_type": "code",
   "execution_count": 11,
   "metadata": {},
   "outputs": [
    {
     "data": {
      "text/plain": [
       "0    Misc\n",
       "dtype: object"
      ]
     },
     "execution_count": 11,
     "metadata": {},
     "output_type": "execute_result"
    }
   ],
   "source": [
    "Games_dados.Genre.mode()"
   ]
  },
  {
   "cell_type": "code",
   "execution_count": 12,
   "metadata": {},
   "outputs": [
    {
     "data": {
      "text/plain": [
       "Misc                9476\n",
       "Action              7667\n",
       "Adventure           5293\n",
       "Sports              5244\n",
       "Shooter             4586\n",
       "Role-Playing        4551\n",
       "Platform            3445\n",
       "Strategy            3266\n",
       "Puzzle              3162\n",
       "Racing              3030\n",
       "Simulation          2737\n",
       "Fighting            2085\n",
       "Action-Adventure     609\n",
       "Visual Novel         260\n",
       "Music                195\n",
       "Party                 75\n",
       "MMO                   74\n",
       "Board Game            16\n",
       "Education             12\n",
       "Sandbox                9\n",
       "Name: Genre, dtype: int64"
      ]
     },
     "execution_count": 12,
     "metadata": {},
     "output_type": "execute_result"
    }
   ],
   "source": [
    "Games_dados.Genre.value_counts()"
   ]
  },
  {
   "cell_type": "code",
   "execution_count": 14,
   "metadata": {},
   "outputs": [
    {
     "data": {
      "text/plain": [
       "0    PC\n",
       "dtype: object"
      ]
     },
     "execution_count": 14,
     "metadata": {},
     "output_type": "execute_result"
    }
   ],
   "source": [
    "Games_dados.Platform.mode()"
   ]
  },
  {
   "cell_type": "code",
   "execution_count": 15,
   "metadata": {},
   "outputs": [
    {
     "data": {
      "text/plain": [
       "PC       10978\n",
       "PS2       3564\n",
       "DS        3292\n",
       "PS        2703\n",
       "XBL       2115\n",
       "PSN       2004\n",
       "PS3       1870\n",
       "PSP       1804\n",
       "PS4       1755\n",
       "X360      1701\n",
       "Wii       1674\n",
       "GBA       1658\n",
       "GB        1601\n",
       "SNES      1209\n",
       "3DS       1192\n",
       "NS        1186\n",
       "NES       1105\n",
       "XOne      1082\n",
       "PSV       1046\n",
       "And       1007\n",
       "XB         984\n",
       "GEN        805\n",
       "DSiW       753\n",
       "SAT        739\n",
       "GC         666\n",
       "OSX        658\n",
       "DC         655\n",
       "VC         653\n",
       "2600       501\n",
       "WW         467\n",
       "         ...  \n",
       "AJ          72\n",
       "PCFX        67\n",
       "WinP        66\n",
       "BRW         63\n",
       "NGage       61\n",
       "7800        59\n",
       "iOS         57\n",
       "GIZ         55\n",
       "Arc         39\n",
       "C64         31\n",
       "Amig        29\n",
       "MSD         27\n",
       "Ouya        25\n",
       "Mob         22\n",
       "VB          22\n",
       "ACPC        20\n",
       "ZXS         19\n",
       "AST         17\n",
       "iQue        17\n",
       "GBC         17\n",
       "MSX          7\n",
       "CDi          6\n",
       "ApII         4\n",
       "S32X         3\n",
       "CD32         3\n",
       "TG16         3\n",
       "FMT          3\n",
       "Aco          1\n",
       "C128         1\n",
       "BBCM         1\n",
       "Name: Platform, Length: 74, dtype: int64"
      ]
     },
     "execution_count": 15,
     "metadata": {},
     "output_type": "execute_result"
    }
   ],
   "source": [
    "Games_dados.Platform.value_counts()"
   ]
  },
  {
   "cell_type": "markdown",
   "metadata": {},
   "source": [
    "### Tipos de Dados"
   ]
  },
  {
   "cell_type": "code",
   "execution_count": 21,
   "metadata": {},
   "outputs": [
    {
     "data": {
      "text/plain": [
       "Rank                int64\n",
       "Name               object\n",
       "basename           object\n",
       "Genre              object\n",
       "ESRB_Rating        object\n",
       "Platform           object\n",
       "Publisher          object\n",
       "Developer          object\n",
       "VGChartz_Score    float64\n",
       "Critic_Score      float64\n",
       "User_Score        float64\n",
       "Total_Shipped     float64\n",
       "Global_Sales      float64\n",
       "NA_Sales          float64\n",
       "PAL_Sales         float64\n",
       "JP_Sales          float64\n",
       "Other_Sales       float64\n",
       "Year              float64\n",
       "Last_Update        object\n",
       "url                object\n",
       "status              int64\n",
       "Vgchartzscore     float64\n",
       "img_url            object\n",
       "dtype: object"
      ]
     },
     "execution_count": 21,
     "metadata": {},
     "output_type": "execute_result"
    }
   ],
   "source": [
    "Games_dados.dtypes"
   ]
  },
  {
   "cell_type": "markdown",
   "metadata": {},
   "source": [
    "#### Tipos\n",
    "    * Tipos Categoricos (Binario, Nominal , Ordinal):\n",
    "        Name , basename , Genre , Platform, Publisher , Developer ,Last_Update, ESRB_Rating ,url , img_url"
   ]
  },
  {
   "cell_type": "code",
   "execution_count": 37,
   "metadata": {},
   "outputs": [],
   "source": [
    "#ajustando tipos dos dados\n",
    "Games_dados['Name'] = Games_dados['Name'].astype('category')\n",
    "Games_dados['basename'] = Games_dados['basename'].astype('category')\n",
    "Games_dados['Genre'] = Games_dados['Genre'].astype('category')\n",
    "Games_dados['Platform'] = Games_dados['Platform'].astype('category')\n",
    "Games_dados['Publisher'] = Games_dados['Publisher'].astype('category')\n",
    "Games_dados['Developer'] = Games_dados['Developer'].astype('category')\n",
    "Games_dados['Last_Update'] = Games_dados['Last_Update'].astype('category')\n",
    "Games_dados['ESRB_Rating'] = Games_dados['ESRB_Rating'].astype('category')\n",
    "Games_dados['img_url'] = Games_dados['img_url'].astype('category')\n",
    "Games_dados['url'] = Games_dados['url'].astype('category')"
   ]
  },
  {
   "cell_type": "code",
   "execution_count": 38,
   "metadata": {},
   "outputs": [
    {
     "data": {
      "text/plain": [
       "Rank                 int64\n",
       "Name              category\n",
       "basename          category\n",
       "Genre             category\n",
       "ESRB_Rating       category\n",
       "Platform          category\n",
       "Publisher         category\n",
       "Developer         category\n",
       "VGChartz_Score     float64\n",
       "Critic_Score       float64\n",
       "User_Score         float64\n",
       "Total_Shipped      float64\n",
       "Global_Sales       float64\n",
       "NA_Sales           float64\n",
       "PAL_Sales          float64\n",
       "JP_Sales           float64\n",
       "Other_Sales        float64\n",
       "Year               float64\n",
       "Last_Update       category\n",
       "url               category\n",
       "status               int64\n",
       "Vgchartzscore      float64\n",
       "img_url           category\n",
       "dtype: object"
      ]
     },
     "execution_count": 38,
     "metadata": {},
     "output_type": "execute_result"
    }
   ],
   "source": [
    "Games_dados.dtypes"
   ]
  },
  {
   "cell_type": "code",
   "execution_count": 39,
   "metadata": {},
   "outputs": [
    {
     "data": {
      "text/plain": [
       "Index(['Action', 'Action-Adventure', 'Adventure', 'Board Game', 'Education',\n",
       "       'Fighting', 'MMO', 'Misc', 'Music', 'Party', 'Platform', 'Puzzle',\n",
       "       'Racing', 'Role-Playing', 'Sandbox', 'Shooter', 'Simulation', 'Sports',\n",
       "       'Strategy', 'Visual Novel'],\n",
       "      dtype='object')"
      ]
     },
     "execution_count": 39,
     "metadata": {},
     "output_type": "execute_result"
    }
   ],
   "source": [
    "Games_dados['Genre'].cat.categories"
   ]
  },
  {
   "cell_type": "code",
   "execution_count": 40,
   "metadata": {},
   "outputs": [
    {
     "data": {
      "text/plain": [
       "Index(['2600', '3DO', '3DS', '5200', '7800', 'ACPC', 'AJ', 'AST', 'Aco',\n",
       "       'Amig', 'And', 'ApII', 'Arc', 'BBCM', 'BRW', 'C128', 'C64', 'CD32',\n",
       "       'CDi', 'DC', 'DS', 'DSi', 'DSiW', 'FMT', 'GB', 'GBA', 'GBC', 'GC',\n",
       "       'GEN', 'GG', 'GIZ', 'Int', 'Linux', 'Lynx', 'MS', 'MSD', 'MSX', 'Mob',\n",
       "       'N64', 'NES', 'NG', 'NGage', 'NS', 'OSX', 'Ouya', 'PC', 'PCE', 'PCFX',\n",
       "       'PS', 'PS2', 'PS3', 'PS4', 'PSN', 'PSP', 'PSV', 'S32X', 'SAT', 'SCD',\n",
       "       'SNES', 'TG16', 'VB', 'VC', 'WS', 'WW', 'Wii', 'WiiU', 'WinP', 'X360',\n",
       "       'XB', 'XBL', 'XOne', 'ZXS', 'iOS', 'iQue'],\n",
       "      dtype='object')"
      ]
     },
     "execution_count": 40,
     "metadata": {},
     "output_type": "execute_result"
    }
   ],
   "source": [
    "Games_dados['Platform'].cat.categories"
   ]
  },
  {
   "cell_type": "markdown",
   "metadata": {},
   "source": [
    "### Remoção de Dados"
   ]
  },
  {
   "cell_type": "code",
   "execution_count": 44,
   "metadata": {},
   "outputs": [
    {
     "data": {
      "text/plain": [
       "(55792, 23)"
      ]
     },
     "execution_count": 44,
     "metadata": {},
     "output_type": "execute_result"
    }
   ],
   "source": [
    "Games_dados.shape"
   ]
  },
  {
   "cell_type": "code",
   "execution_count": 48,
   "metadata": {},
   "outputs": [
    {
     "name": "stdout",
     "output_type": "stream",
     "text": [
      "Rank                  0\n",
      "Name                  0\n",
      "basename              0\n",
      "Genre                 0\n",
      "ESRB_Rating       32169\n",
      "Platform              0\n",
      "Publisher             0\n",
      "Developer            17\n",
      "VGChartz_Score    55792\n",
      "Critic_Score      49256\n",
      "User_Score        55457\n",
      "Total_Shipped     53965\n",
      "Global_Sales      36377\n",
      "NA_Sales          42828\n",
      "PAL_Sales         42603\n",
      "JP_Sales          48749\n",
      "Other_Sales       40270\n",
      "Year                979\n",
      "Last_Update       46606\n",
      "url                   0\n",
      "status                0\n",
      "Vgchartzscore     54993\n",
      "img_url               0\n",
      "dtype: int64\n"
     ]
    }
   ],
   "source": [
    "print(Games_dados.isnull().sum())"
   ]
  },
  {
   "cell_type": "code",
   "execution_count": 52,
   "metadata": {},
   "outputs": [
    {
     "data": {
      "text/plain": [
       "55792"
      ]
     },
     "execution_count": 52,
     "metadata": {},
     "output_type": "execute_result"
    }
   ],
   "source": [
    "len(Games_dados)"
   ]
  },
  {
   "cell_type": "code",
   "execution_count": null,
   "metadata": {},
   "outputs": [],
   "source": []
  }
 ],
 "metadata": {
  "kernelspec": {
   "display_name": "Python 3",
   "language": "python",
   "name": "python3"
  },
  "language_info": {
   "codemirror_mode": {
    "name": "ipython",
    "version": 3
   },
   "file_extension": ".py",
   "mimetype": "text/x-python",
   "name": "python",
   "nbconvert_exporter": "python",
   "pygments_lexer": "ipython3",
   "version": "3.7.3"
  }
 },
 "nbformat": 4,
 "nbformat_minor": 2
}
