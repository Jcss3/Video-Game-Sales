{
 "cells": [
  {
   "cell_type": "markdown",
   "metadata": {},
   "source": [
    "## Bibliotecas"
   ]
  },
  {
   "cell_type": "code",
   "execution_count": 1,
   "metadata": {},
   "outputs": [],
   "source": [
    "import pandas as pd\n",
    "import numpy as np"
   ]
  },
  {
   "cell_type": "markdown",
   "metadata": {},
   "source": [
    "## Leitura dos Dados"
   ]
  },
  {
   "cell_type": "code",
   "execution_count": 2,
   "metadata": {},
   "outputs": [],
   "source": [
    "Games_dados = pd.read_csv(\"../dados/vgsales-12-4-2019.csv\")"
   ]
  },
  {
   "cell_type": "markdown",
   "metadata": {},
   "source": [
    "## Explorando os Dados"
   ]
  },
  {
   "cell_type": "code",
   "execution_count": 3,
   "metadata": {},
   "outputs": [
    {
     "data": {
      "text/html": [
       "<div>\n",
       "<style scoped>\n",
       "    .dataframe tbody tr th:only-of-type {\n",
       "        vertical-align: middle;\n",
       "    }\n",
       "\n",
       "    .dataframe tbody tr th {\n",
       "        vertical-align: top;\n",
       "    }\n",
       "\n",
       "    .dataframe thead th {\n",
       "        text-align: right;\n",
       "    }\n",
       "</style>\n",
       "<table border=\"1\" class=\"dataframe\">\n",
       "  <thead>\n",
       "    <tr style=\"text-align: right;\">\n",
       "      <th></th>\n",
       "      <th>Rank</th>\n",
       "      <th>Name</th>\n",
       "      <th>basename</th>\n",
       "      <th>Genre</th>\n",
       "      <th>ESRB_Rating</th>\n",
       "      <th>Platform</th>\n",
       "      <th>Publisher</th>\n",
       "      <th>Developer</th>\n",
       "      <th>VGChartz_Score</th>\n",
       "      <th>Critic_Score</th>\n",
       "      <th>...</th>\n",
       "      <th>NA_Sales</th>\n",
       "      <th>PAL_Sales</th>\n",
       "      <th>JP_Sales</th>\n",
       "      <th>Other_Sales</th>\n",
       "      <th>Year</th>\n",
       "      <th>Last_Update</th>\n",
       "      <th>url</th>\n",
       "      <th>status</th>\n",
       "      <th>Vgchartzscore</th>\n",
       "      <th>img_url</th>\n",
       "    </tr>\n",
       "  </thead>\n",
       "  <tbody>\n",
       "    <tr>\n",
       "      <th>0</th>\n",
       "      <td>1</td>\n",
       "      <td>Wii Sports</td>\n",
       "      <td>wii-sports</td>\n",
       "      <td>Sports</td>\n",
       "      <td>E</td>\n",
       "      <td>Wii</td>\n",
       "      <td>Nintendo</td>\n",
       "      <td>Nintendo EAD</td>\n",
       "      <td>NaN</td>\n",
       "      <td>7.7</td>\n",
       "      <td>...</td>\n",
       "      <td>NaN</td>\n",
       "      <td>NaN</td>\n",
       "      <td>NaN</td>\n",
       "      <td>NaN</td>\n",
       "      <td>2006.0</td>\n",
       "      <td>NaN</td>\n",
       "      <td>http://www.vgchartz.com/game/2667/wii-sports/?...</td>\n",
       "      <td>1</td>\n",
       "      <td>NaN</td>\n",
       "      <td>/games/boxart/full_2258645AmericaFrontccc.jpg</td>\n",
       "    </tr>\n",
       "    <tr>\n",
       "      <th>1</th>\n",
       "      <td>2</td>\n",
       "      <td>Super Mario Bros.</td>\n",
       "      <td>super-mario-bros</td>\n",
       "      <td>Platform</td>\n",
       "      <td>NaN</td>\n",
       "      <td>NES</td>\n",
       "      <td>Nintendo</td>\n",
       "      <td>Nintendo EAD</td>\n",
       "      <td>NaN</td>\n",
       "      <td>10.0</td>\n",
       "      <td>...</td>\n",
       "      <td>NaN</td>\n",
       "      <td>NaN</td>\n",
       "      <td>NaN</td>\n",
       "      <td>NaN</td>\n",
       "      <td>1985.0</td>\n",
       "      <td>NaN</td>\n",
       "      <td>http://www.vgchartz.com/game/6455/super-mario-...</td>\n",
       "      <td>1</td>\n",
       "      <td>NaN</td>\n",
       "      <td>/games/boxart/8972270ccc.jpg</td>\n",
       "    </tr>\n",
       "    <tr>\n",
       "      <th>2</th>\n",
       "      <td>3</td>\n",
       "      <td>Mario Kart Wii</td>\n",
       "      <td>mario-kart-wii</td>\n",
       "      <td>Racing</td>\n",
       "      <td>E</td>\n",
       "      <td>Wii</td>\n",
       "      <td>Nintendo</td>\n",
       "      <td>Nintendo EAD</td>\n",
       "      <td>NaN</td>\n",
       "      <td>8.2</td>\n",
       "      <td>...</td>\n",
       "      <td>NaN</td>\n",
       "      <td>NaN</td>\n",
       "      <td>NaN</td>\n",
       "      <td>NaN</td>\n",
       "      <td>2008.0</td>\n",
       "      <td>11th Apr 18</td>\n",
       "      <td>http://www.vgchartz.com/game/6968/mario-kart-w...</td>\n",
       "      <td>1</td>\n",
       "      <td>8.7</td>\n",
       "      <td>/games/boxart/full_8932480AmericaFrontccc.jpg</td>\n",
       "    </tr>\n",
       "    <tr>\n",
       "      <th>3</th>\n",
       "      <td>4</td>\n",
       "      <td>PlayerUnknown's Battlegrounds</td>\n",
       "      <td>playerunknowns-battlegrounds</td>\n",
       "      <td>Shooter</td>\n",
       "      <td>NaN</td>\n",
       "      <td>PC</td>\n",
       "      <td>PUBG Corporation</td>\n",
       "      <td>PUBG Corporation</td>\n",
       "      <td>NaN</td>\n",
       "      <td>NaN</td>\n",
       "      <td>...</td>\n",
       "      <td>NaN</td>\n",
       "      <td>NaN</td>\n",
       "      <td>NaN</td>\n",
       "      <td>NaN</td>\n",
       "      <td>2017.0</td>\n",
       "      <td>13th Nov 18</td>\n",
       "      <td>http://www.vgchartz.com/game/215988/playerunkn...</td>\n",
       "      <td>1</td>\n",
       "      <td>NaN</td>\n",
       "      <td>/games/boxart/full_8052843AmericaFrontccc.jpg</td>\n",
       "    </tr>\n",
       "    <tr>\n",
       "      <th>4</th>\n",
       "      <td>5</td>\n",
       "      <td>Wii Sports Resort</td>\n",
       "      <td>wii-sports-resort</td>\n",
       "      <td>Sports</td>\n",
       "      <td>E</td>\n",
       "      <td>Wii</td>\n",
       "      <td>Nintendo</td>\n",
       "      <td>Nintendo EAD</td>\n",
       "      <td>NaN</td>\n",
       "      <td>8.0</td>\n",
       "      <td>...</td>\n",
       "      <td>NaN</td>\n",
       "      <td>NaN</td>\n",
       "      <td>NaN</td>\n",
       "      <td>NaN</td>\n",
       "      <td>2009.0</td>\n",
       "      <td>NaN</td>\n",
       "      <td>http://www.vgchartz.com/game/24656/wii-sports-...</td>\n",
       "      <td>1</td>\n",
       "      <td>8.8</td>\n",
       "      <td>/games/boxart/full_7295041AmericaFrontccc.jpg</td>\n",
       "    </tr>\n",
       "  </tbody>\n",
       "</table>\n",
       "<p>5 rows × 23 columns</p>\n",
       "</div>"
      ],
      "text/plain": [
       "   Rank                           Name                      basename  \\\n",
       "0     1                     Wii Sports                    wii-sports   \n",
       "1     2              Super Mario Bros.              super-mario-bros   \n",
       "2     3                 Mario Kart Wii                mario-kart-wii   \n",
       "3     4  PlayerUnknown's Battlegrounds  playerunknowns-battlegrounds   \n",
       "4     5              Wii Sports Resort             wii-sports-resort   \n",
       "\n",
       "      Genre ESRB_Rating Platform         Publisher         Developer  \\\n",
       "0    Sports           E      Wii          Nintendo      Nintendo EAD   \n",
       "1  Platform         NaN      NES          Nintendo      Nintendo EAD   \n",
       "2    Racing           E      Wii          Nintendo      Nintendo EAD   \n",
       "3   Shooter         NaN       PC  PUBG Corporation  PUBG Corporation   \n",
       "4    Sports           E      Wii          Nintendo      Nintendo EAD   \n",
       "\n",
       "   VGChartz_Score  Critic_Score  ...  NA_Sales  PAL_Sales  JP_Sales  \\\n",
       "0             NaN           7.7  ...       NaN        NaN       NaN   \n",
       "1             NaN          10.0  ...       NaN        NaN       NaN   \n",
       "2             NaN           8.2  ...       NaN        NaN       NaN   \n",
       "3             NaN           NaN  ...       NaN        NaN       NaN   \n",
       "4             NaN           8.0  ...       NaN        NaN       NaN   \n",
       "\n",
       "   Other_Sales    Year  Last_Update  \\\n",
       "0          NaN  2006.0          NaN   \n",
       "1          NaN  1985.0          NaN   \n",
       "2          NaN  2008.0  11th Apr 18   \n",
       "3          NaN  2017.0  13th Nov 18   \n",
       "4          NaN  2009.0          NaN   \n",
       "\n",
       "                                                 url  status Vgchartzscore  \\\n",
       "0  http://www.vgchartz.com/game/2667/wii-sports/?...       1           NaN   \n",
       "1  http://www.vgchartz.com/game/6455/super-mario-...       1           NaN   \n",
       "2  http://www.vgchartz.com/game/6968/mario-kart-w...       1           8.7   \n",
       "3  http://www.vgchartz.com/game/215988/playerunkn...       1           NaN   \n",
       "4  http://www.vgchartz.com/game/24656/wii-sports-...       1           8.8   \n",
       "\n",
       "                                         img_url  \n",
       "0  /games/boxart/full_2258645AmericaFrontccc.jpg  \n",
       "1                   /games/boxart/8972270ccc.jpg  \n",
       "2  /games/boxart/full_8932480AmericaFrontccc.jpg  \n",
       "3  /games/boxart/full_8052843AmericaFrontccc.jpg  \n",
       "4  /games/boxart/full_7295041AmericaFrontccc.jpg  \n",
       "\n",
       "[5 rows x 23 columns]"
      ]
     },
     "execution_count": 3,
     "metadata": {},
     "output_type": "execute_result"
    }
   ],
   "source": [
    "Games_dados.head()"
   ]
  },
  {
   "cell_type": "code",
   "execution_count": 4,
   "metadata": {},
   "outputs": [
    {
     "data": {
      "text/plain": [
       "Index(['Rank', 'Name', 'basename', 'Genre', 'ESRB_Rating', 'Platform',\n",
       "       'Publisher', 'Developer', 'VGChartz_Score', 'Critic_Score',\n",
       "       'User_Score', 'Total_Shipped', 'Global_Sales', 'NA_Sales', 'PAL_Sales',\n",
       "       'JP_Sales', 'Other_Sales', 'Year', 'Last_Update', 'url', 'status',\n",
       "       'Vgchartzscore', 'img_url'],\n",
       "      dtype='object')"
      ]
     },
     "execution_count": 4,
     "metadata": {},
     "output_type": "execute_result"
    }
   ],
   "source": [
    "Games_dados.columns"
   ]
  },
  {
   "cell_type": "code",
   "execution_count": 5,
   "metadata": {},
   "outputs": [
    {
     "data": {
      "text/plain": [
       "(55792, 23)"
      ]
     },
     "execution_count": 5,
     "metadata": {},
     "output_type": "execute_result"
    }
   ],
   "source": [
    "Games_dados.shape"
   ]
  },
  {
   "cell_type": "markdown",
   "metadata": {},
   "source": [
    "* Olhada inicial nos dados , mostrando um pouco do dataset(colunas e o shape)"
   ]
  },
  {
   "cell_type": "markdown",
   "metadata": {},
   "source": [
    "### Verificando algumas variaveis de interesse\n",
    "* olhar a distribuição de Global Sales\n",
    "* olhar genre\n",
    "* olhar platform"
   ]
  },
  {
   "cell_type": "markdown",
   "metadata": {},
   "source": [
    "### Global Sales"
   ]
  },
  {
   "cell_type": "code",
   "execution_count": 6,
   "metadata": {},
   "outputs": [
    {
     "data": {
      "text/plain": [
       "0.3655029616276456"
      ]
     },
     "execution_count": 6,
     "metadata": {},
     "output_type": "execute_result"
    }
   ],
   "source": [
    "Games_dados.Global_Sales.mean()"
   ]
  },
  {
   "cell_type": "code",
   "execution_count": 7,
   "metadata": {},
   "outputs": [
    {
     "data": {
      "text/plain": [
       "0.12"
      ]
     },
     "execution_count": 7,
     "metadata": {},
     "output_type": "execute_result"
    }
   ],
   "source": [
    "Games_dados.Global_Sales.median()"
   ]
  },
  {
   "cell_type": "code",
   "execution_count": 8,
   "metadata": {},
   "outputs": [
    {
     "data": {
      "text/plain": [
       "0    0.0\n",
       "dtype: float64"
      ]
     },
     "execution_count": 8,
     "metadata": {},
     "output_type": "execute_result"
    }
   ],
   "source": [
    "Games_dados.Global_Sales.mode()"
   ]
  },
  {
   "cell_type": "code",
   "execution_count": 9,
   "metadata": {},
   "outputs": [
    {
     "data": {
      "text/plain": [
       "0.6939250161521385"
      ]
     },
     "execution_count": 9,
     "metadata": {},
     "output_type": "execute_result"
    }
   ],
   "source": [
    "# Dado um conjunto de dados, a variância é uma medida de dispersão que mostra o quão distante cada valor desse conjunto \n",
    "# está do valor central (médio). Quanto menor é a variância, mais próximos os valores estão da média; \n",
    "# mas quanto maior ela é, mais os valores estão distantes da média.\n",
    "Games_dados.Global_Sales.var()"
   ]
  },
  {
   "cell_type": "code",
   "execution_count": 10,
   "metadata": {},
   "outputs": [
    {
     "data": {
      "text/plain": [
       "0.833021618058102"
      ]
     },
     "execution_count": 10,
     "metadata": {},
     "output_type": "execute_result"
    }
   ],
   "source": [
    "# Um baixo desvio padrão indica que os pontos dos dados tendem a estar próximos da média ou do valor esperado. \n",
    "# Um alto desvio padrão indica que os pontos dos dados \n",
    "# estão espalhados por uma ampla gama de valores.\n",
    "Games_dados.Global_Sales.std()"
   ]
  },
  {
   "cell_type": "code",
   "execution_count": 11,
   "metadata": {},
   "outputs": [
    {
     "data": {
      "text/plain": [
       "count    19415.000000\n",
       "mean         0.365503\n",
       "std          0.833022\n",
       "min          0.000000\n",
       "25%          0.030000\n",
       "50%          0.120000\n",
       "75%          0.360000\n",
       "max         20.320000\n",
       "Name: Global_Sales, dtype: float64"
      ]
     },
     "execution_count": 11,
     "metadata": {},
     "output_type": "execute_result"
    }
   ],
   "source": [
    "Games_dados.Global_Sales.describe()"
   ]
  },
  {
   "cell_type": "markdown",
   "metadata": {},
   "source": [
    "#### Observado: \n",
    "* Media muito distante da mediana e variancia e desvio padrão altos. Indicação de que pode haver outliers.\n",
    "* A moda do Global Sales é zero. Indicação de que podem existir muitos valores Nan\n",
    "\n",
    "#### Plotar alguns  graficos para melhor vizualização."
   ]
  },
  {
   "cell_type": "code",
   "execution_count": 12,
   "metadata": {},
   "outputs": [
    {
     "data": {
      "text/plain": [
       "<matplotlib.axes._subplots.AxesSubplot at 0x24c593ddba8>"
      ]
     },
     "execution_count": 12,
     "metadata": {},
     "output_type": "execute_result"
    }
   ],
   "source": [
    "Games_dados.Global_Sales.hist()"
   ]
  },
  {
   "cell_type": "code",
   "execution_count": 13,
   "metadata": {},
   "outputs": [
    {
     "data": {
      "text/plain": [
       "<matplotlib.axes._subplots.AxesSubplot at 0x24c5acf85f8>"
      ]
     },
     "execution_count": 13,
     "metadata": {},
     "output_type": "execute_result"
    },
    {
     "data": {
      "image/png": "[encoded data removed]",
      "text/plain": [
       "<Figure size 432x288 with 1 Axes>"
      ]
     },
     "metadata": {
      "needs_background": "light"
     },
     "output_type": "display_data"
    }
   ],
   "source": [
    "Games_dados['Log_Global_Sales'] = Games_dados['Global_Sales'].apply(np.log10)\n",
    "Games_dados[Games_dados['Log_Global_Sales'] > 0]['Log_Global_Sales'].hist()"
   ]
  },
  {
   "cell_type": "code",
   "execution_count": 14,
   "metadata": {},
   "outputs": [
    {
     "data": {
      "text/plain": [
       "<matplotlib.axes._subplots.AxesSubplot at 0x24c5afe9cf8>"
      ]
     },
     "execution_count": 14,
     "metadata": {},
     "output_type": "execute_result"
    },
    {
     "data": {
      "image/png": "[encoded data removed]",
      "text/plain": [
       "<Figure size 432x288 with 1 Axes>"
      ]
     },
     "metadata": {
      "needs_background": "light"
     },
     "output_type": "display_data"
    }
   ],
   "source": [
    "Games_dados.boxplot(column=['Global_Sales'])"
   ]
  },
  {
   "cell_type": "markdown",
   "metadata": {},
   "source": [
    "* Possiveis outliers\n",
    "    * Valores Grandes\n",
    "    * Valores zerados/Nan"
   ]
  },
  {
   "cell_type": "code",
   "execution_count": 15,
   "metadata": {},
   "outputs": [
    {
     "data": {
      "text/plain": [
       "19    20.32\n",
       "20    19.39\n",
       "30    16.15\n",
       "32    15.86\n",
       "34    15.09\n",
       "40    14.82\n",
       "41    14.74\n",
       "45    13.94\n",
       "46    13.86\n",
       "47    13.80\n",
       "Name: Global_Sales, dtype: float64"
      ]
     },
     "execution_count": 15,
     "metadata": {},
     "output_type": "execute_result"
    }
   ],
   "source": [
    "# Verificando os valores maiores\n",
    "Games_dados.Global_Sales.sort_values(ascending = False).head(10)"
   ]
  },
  {
   "cell_type": "code",
   "execution_count": 16,
   "metadata": {},
   "outputs": [
    {
     "name": "stdout",
     "output_type": "stream",
     "text": [
      "21241    0.0\n",
      "20316    0.0\n",
      "20317    0.0\n",
      "20318    0.0\n",
      "20319    0.0\n",
      "20320    0.0\n",
      "20321    0.0\n",
      "20322    0.0\n",
      "20323    0.0\n",
      "20324    0.0\n",
      "Name: Global_Sales, dtype: float64 \n",
      "\n",
      "Qtd de Nan:  36377\n"
     ]
    }
   ],
   "source": [
    "# Verificando zerados/Nan\n",
    "print(Games_dados.Global_Sales.sort_values().head(10),'\\n')\n",
    "print('Qtd de Nan: ',Games_dados.Global_Sales.isnull().sum())"
   ]
  },
  {
   "cell_type": "markdown",
   "metadata": {},
   "source": [
    "* Valores Grandes: diferença não tão grande.\n",
    "    * Valores dentro do intervalo [20:0]\n",
    "* Valores Pequenos/Nan: \n",
    "    * Muitos valores Nan"
   ]
  },
  {
   "cell_type": "markdown",
   "metadata": {},
   "source": [
    "### Genre"
   ]
  },
  {
   "cell_type": "code",
   "execution_count": 17,
   "metadata": {},
   "outputs": [
    {
     "data": {
      "text/plain": [
       "0    Misc\n",
       "dtype: object"
      ]
     },
     "execution_count": 17,
     "metadata": {},
     "output_type": "execute_result"
    }
   ],
   "source": [
    "Games_dados.Genre.mode()"
   ]
  },
  {
   "cell_type": "code",
   "execution_count": 18,
   "metadata": {},
   "outputs": [
    {
     "data": {
      "text/plain": [
       "count     55792\n",
       "unique       20\n",
       "top        Misc\n",
       "freq       9476\n",
       "Name: Genre, dtype: object"
      ]
     },
     "execution_count": 18,
     "metadata": {},
     "output_type": "execute_result"
    }
   ],
   "source": [
    "Games_dados.Genre.describe()"
   ]
  },
  {
   "cell_type": "code",
   "execution_count": 19,
   "metadata": {},
   "outputs": [
    {
     "name": "stdout",
     "output_type": "stream",
     "text": [
      "Qtd de Nan:  0\n"
     ]
    }
   ],
   "source": [
    "print('Qtd de Nan: ',Games_dados.Genre.isnull().sum())"
   ]
  },
  {
   "cell_type": "markdown",
   "metadata": {},
   "source": [
    "#### Observado: \n",
    "* Misc é o Genre que mais aparece no dataset, com uma freq de 9476 em 55792\n",
    "* Não possui valor Nan\n",
    "\n",
    "#### Plotar alguns  graficos para melhor vizualização."
   ]
  },
  {
   "cell_type": "code",
   "execution_count": 20,
   "metadata": {},
   "outputs": [
    {
     "data": {
      "text/plain": [
       "<matplotlib.axes._subplots.AxesSubplot at 0x24c5b072470>"
      ]
     },
     "execution_count": 20,
     "metadata": {},
     "output_type": "execute_result"
    },
    {
     "data": {
      "image/png": "[encoded data removed]",
      "text/plain": [
       "<Figure size 432x288 with 1 Axes>"
      ]
     },
     "metadata": {
      "needs_background": "light"
     },
     "output_type": "display_data"
    }
   ],
   "source": [
    "Games_dados.Genre.value_counts().plot.bar()"
   ]
  },
  {
   "cell_type": "code",
   "execution_count": 21,
   "metadata": {},
   "outputs": [
    {
     "data": {
      "text/plain": [
       "<matplotlib.axes._subplots.AxesSubplot at 0x24c5b13ab00>"
      ]
     },
     "execution_count": 21,
     "metadata": {},
     "output_type": "execute_result"
    },
    {
     "data": {
      "image/png": "[encoded data removed]",
      "text/plain": [
       "<Figure size 432x288 with 1 Axes>"
      ]
     },
     "metadata": {
      "needs_background": "light"
     },
     "output_type": "display_data"
    }
   ],
   "source": [
    "Games_dados.Genre.value_counts().plot.hist()"
   ]
  },
  {
   "cell_type": "markdown",
   "metadata": {},
   "source": [
    "### Platform"
   ]
  },
  {
   "cell_type": "code",
   "execution_count": 22,
   "metadata": {},
   "outputs": [
    {
     "data": {
      "text/plain": [
       "0    PC\n",
       "dtype: object"
      ]
     },
     "execution_count": 22,
     "metadata": {},
     "output_type": "execute_result"
    }
   ],
   "source": [
    "Games_dados.Platform.mode()"
   ]
  },
  {
   "cell_type": "code",
   "execution_count": 23,
   "metadata": {},
   "outputs": [
    {
     "data": {
      "text/plain": [
       "count     55792\n",
       "unique       74\n",
       "top          PC\n",
       "freq      10978\n",
       "Name: Platform, dtype: object"
      ]
     },
     "execution_count": 23,
     "metadata": {},
     "output_type": "execute_result"
    }
   ],
   "source": [
    "Games_dados.Platform.describe()"
   ]
  },
  {
   "cell_type": "code",
   "execution_count": 24,
   "metadata": {},
   "outputs": [
    {
     "name": "stdout",
     "output_type": "stream",
     "text": [
      "Qtd de Nan:  0\n"
     ]
    }
   ],
   "source": [
    "print('Qtd de Nan: ',Games_dados.Platform.isnull().sum())"
   ]
  },
  {
   "cell_type": "markdown",
   "metadata": {},
   "source": [
    "#### Observado: \n",
    "* PC é a PLatform que mais aparece no dataset, com uma freq de 10978 em 55792.\n",
    "* Não possui valor Nan\n",
    "\n",
    "#### Plotar alguns  graficos para melhor vizualização."
   ]
  },
  {
   "cell_type": "code",
   "execution_count": 25,
   "metadata": {},
   "outputs": [
    {
     "data": {
      "text/plain": [
       "<matplotlib.axes._subplots.AxesSubplot at 0x24c5b187dd8>"
      ]
     },
     "execution_count": 25,
     "metadata": {},
     "output_type": "execute_result"
    },
    {
     "data": {
      "image/png": "[encoded data removed]",
      "text/plain": [
       "<Figure size 1584x864 with 1 Axes>"
      ]
     },
     "metadata": {
      "needs_background": "light"
     },
     "output_type": "display_data"
    }
   ],
   "source": [
    "Games_dados.Platform.value_counts().plot(kind='bar', figsize=(22,12))"
   ]
  },
  {
   "cell_type": "code",
   "execution_count": 26,
   "metadata": {},
   "outputs": [
    {
     "data": {
      "text/plain": [
       "<matplotlib.axes._subplots.AxesSubplot at 0x24c5b375ba8>"
      ]
     },
     "execution_count": 26,
     "metadata": {},
     "output_type": "execute_result"
    },
    {
     "data": {
      "image/png": "[encoded data removed]",
      "text/plain": [
       "<Figure size 432x288 with 1 Axes>"
      ]
     },
     "metadata": {
      "needs_background": "light"
     },
     "output_type": "display_data"
    }
   ],
   "source": [
    "Games_dados.Platform.value_counts().plot(kind='hist')"
   ]
  },
  {
   "cell_type": "markdown",
   "metadata": {},
   "source": [
    "### Ajustar os Dados"
   ]
  },
  {
   "cell_type": "code",
   "execution_count": 27,
   "metadata": {},
   "outputs": [
    {
     "data": {
      "text/plain": [
       "Rank                  int64\n",
       "Name                 object\n",
       "basename             object\n",
       "Genre                object\n",
       "ESRB_Rating          object\n",
       "Platform             object\n",
       "Publisher            object\n",
       "Developer            object\n",
       "VGChartz_Score      float64\n",
       "Critic_Score        float64\n",
       "User_Score          float64\n",
       "Total_Shipped       float64\n",
       "Global_Sales        float64\n",
       "NA_Sales            float64\n",
       "PAL_Sales           float64\n",
       "JP_Sales            float64\n",
       "Other_Sales         float64\n",
       "Year                float64\n",
       "Last_Update          object\n",
       "url                  object\n",
       "status                int64\n",
       "Vgchartzscore       float64\n",
       "img_url              object\n",
       "Log_Global_Sales    float64\n",
       "dtype: object"
      ]
     },
     "execution_count": 27,
     "metadata": {},
     "output_type": "execute_result"
    }
   ],
   "source": [
    "Games_dados.dtypes"
   ]
  },
  {
   "cell_type": "code",
   "execution_count": 28,
   "metadata": {},
   "outputs": [],
   "source": [
    "#ajustando tipos dos dados\n",
    "Games_dados['Name'] = Games_dados['Name'].astype('category')\n",
    "Games_dados['basename'] = Games_dados['basename'].astype('category')\n",
    "Games_dados['Genre'] = Games_dados['Genre'].astype('category')\n",
    "Games_dados['Platform'] = Games_dados['Platform'].astype('category')\n",
    "Games_dados['Publisher'] = Games_dados['Publisher'].astype('category')\n",
    "Games_dados['Developer'] = Games_dados['Developer'].astype('category')\n",
    "Games_dados['Last_Update'] = Games_dados['Last_Update'].astype('category')\n",
    "Games_dados['ESRB_Rating'] = Games_dados['ESRB_Rating'].astype('category')\n",
    "Games_dados['img_url'] = Games_dados['img_url'].astype('category')\n",
    "Games_dados['url'] = Games_dados['url'].astype('category')"
   ]
  },
  {
   "cell_type": "code",
   "execution_count": 29,
   "metadata": {},
   "outputs": [
    {
     "data": {
      "text/plain": [
       "Rank                   int64\n",
       "Name                category\n",
       "basename            category\n",
       "Genre               category\n",
       "ESRB_Rating         category\n",
       "Platform            category\n",
       "Publisher           category\n",
       "Developer           category\n",
       "VGChartz_Score       float64\n",
       "Critic_Score         float64\n",
       "User_Score           float64\n",
       "Total_Shipped        float64\n",
       "Global_Sales         float64\n",
       "NA_Sales             float64\n",
       "PAL_Sales            float64\n",
       "JP_Sales             float64\n",
       "Other_Sales          float64\n",
       "Year                 float64\n",
       "Last_Update         category\n",
       "url                 category\n",
       "status                 int64\n",
       "Vgchartzscore        float64\n",
       "img_url             category\n",
       "Log_Global_Sales     float64\n",
       "dtype: object"
      ]
     },
     "execution_count": 29,
     "metadata": {},
     "output_type": "execute_result"
    }
   ],
   "source": [
    "Games_dados.dtypes"
   ]
  },
  {
   "cell_type": "markdown",
   "metadata": {},
   "source": [
    "* Tipos de dados ajustados para Categoricos"
   ]
  },
  {
   "cell_type": "markdown",
   "metadata": {},
   "source": [
    "### Novas Variaveis\n",
    "* Usaremos o cat.code para que seja possivel mostrar a covariancia de variveis categoricas\n",
    "    * Variaveis usadas serão: genre e platform\n",
    "\n",
    "* Novas Variaveis\n",
    "    * Code_Genre\n",
    "    * Code_Platform"
   ]
  },
  {
   "cell_type": "code",
   "execution_count": 30,
   "metadata": {},
   "outputs": [
    {
     "data": {
      "text/plain": [
       "Index(['Action', 'Action-Adventure', 'Adventure', 'Board Game', 'Education',\n",
       "       'Fighting', 'MMO', 'Misc', 'Music', 'Party', 'Platform', 'Puzzle',\n",
       "       'Racing', 'Role-Playing', 'Sandbox', 'Shooter', 'Simulation', 'Sports',\n",
       "       'Strategy', 'Visual Novel'],\n",
       "      dtype='object')"
      ]
     },
     "execution_count": 30,
     "metadata": {},
     "output_type": "execute_result"
    }
   ],
   "source": [
    "Games_dados['Genre'].cat.categories"
   ]
  },
  {
   "cell_type": "code",
   "execution_count": 31,
   "metadata": {},
   "outputs": [
    {
     "data": {
      "text/plain": [
       "Index(['2600', '3DO', '3DS', '5200', '7800', 'ACPC', 'AJ', 'AST', 'Aco',\n",
       "       'Amig', 'And', 'ApII', 'Arc', 'BBCM', 'BRW', 'C128', 'C64', 'CD32',\n",
       "       'CDi', 'DC', 'DS', 'DSi', 'DSiW', 'FMT', 'GB', 'GBA', 'GBC', 'GC',\n",
       "       'GEN', 'GG', 'GIZ', 'Int', 'Linux', 'Lynx', 'MS', 'MSD', 'MSX', 'Mob',\n",
       "       'N64', 'NES', 'NG', 'NGage', 'NS', 'OSX', 'Ouya', 'PC', 'PCE', 'PCFX',\n",
       "       'PS', 'PS2', 'PS3', 'PS4', 'PSN', 'PSP', 'PSV', 'S32X', 'SAT', 'SCD',\n",
       "       'SNES', 'TG16', 'VB', 'VC', 'WS', 'WW', 'Wii', 'WiiU', 'WinP', 'X360',\n",
       "       'XB', 'XBL', 'XOne', 'ZXS', 'iOS', 'iQue'],\n",
       "      dtype='object')"
      ]
     },
     "execution_count": 31,
     "metadata": {},
     "output_type": "execute_result"
    }
   ],
   "source": [
    "Games_dados['Platform'].cat.categories "
   ]
  },
  {
   "cell_type": "code",
   "execution_count": 32,
   "metadata": {},
   "outputs": [],
   "source": [
    "#Games_dados['Genre'] = Games_dados['Genre'].cat.codes\n",
    "#Games_dados['Platform'] = Games_dados['Platform'].cat.codes\n",
    "Games_dados['Code_Genre'] = Games_dados['Genre'].cat.codes\n",
    "Games_dados['Code_Platform'] = Games_dados['Platform'].cat.codes"
   ]
  },
  {
   "cell_type": "code",
   "execution_count": 33,
   "metadata": {},
   "outputs": [
    {
     "data": {
      "text/plain": [
       "Rank                   int64\n",
       "Name                category\n",
       "basename            category\n",
       "Genre               category\n",
       "ESRB_Rating         category\n",
       "Platform            category\n",
       "Publisher           category\n",
       "Developer           category\n",
       "VGChartz_Score       float64\n",
       "Critic_Score         float64\n",
       "User_Score           float64\n",
       "Total_Shipped        float64\n",
       "Global_Sales         float64\n",
       "NA_Sales             float64\n",
       "PAL_Sales            float64\n",
       "JP_Sales             float64\n",
       "Other_Sales          float64\n",
       "Year                 float64\n",
       "Last_Update         category\n",
       "url                 category\n",
       "status                 int64\n",
       "Vgchartzscore        float64\n",
       "img_url             category\n",
       "Log_Global_Sales     float64\n",
       "Code_Genre              int8\n",
       "Code_Platform           int8\n",
       "dtype: object"
      ]
     },
     "execution_count": 33,
     "metadata": {},
     "output_type": "execute_result"
    }
   ],
   "source": [
    "Games_dados.dtypes"
   ]
  },
  {
   "cell_type": "code",
   "execution_count": 34,
   "metadata": {},
   "outputs": [
    {
     "data": {
      "text/html": [
       "<div>\n",
       "<style scoped>\n",
       "    .dataframe tbody tr th:only-of-type {\n",
       "        vertical-align: middle;\n",
       "    }\n",
       "\n",
       "    .dataframe tbody tr th {\n",
       "        vertical-align: top;\n",
       "    }\n",
       "\n",
       "    .dataframe thead th {\n",
       "        text-align: right;\n",
       "    }\n",
       "</style>\n",
       "<table border=\"1\" class=\"dataframe\">\n",
       "  <thead>\n",
       "    <tr style=\"text-align: right;\">\n",
       "      <th></th>\n",
       "      <th>Rank</th>\n",
       "      <th>Name</th>\n",
       "      <th>basename</th>\n",
       "      <th>Genre</th>\n",
       "      <th>ESRB_Rating</th>\n",
       "      <th>Platform</th>\n",
       "      <th>Publisher</th>\n",
       "      <th>Developer</th>\n",
       "      <th>VGChartz_Score</th>\n",
       "      <th>Critic_Score</th>\n",
       "      <th>...</th>\n",
       "      <th>Other_Sales</th>\n",
       "      <th>Year</th>\n",
       "      <th>Last_Update</th>\n",
       "      <th>url</th>\n",
       "      <th>status</th>\n",
       "      <th>Vgchartzscore</th>\n",
       "      <th>img_url</th>\n",
       "      <th>Log_Global_Sales</th>\n",
       "      <th>Code_Genre</th>\n",
       "      <th>Code_Platform</th>\n",
       "    </tr>\n",
       "  </thead>\n",
       "  <tbody>\n",
       "    <tr>\n",
       "      <th>0</th>\n",
       "      <td>1</td>\n",
       "      <td>Wii Sports</td>\n",
       "      <td>wii-sports</td>\n",
       "      <td>Sports</td>\n",
       "      <td>E</td>\n",
       "      <td>Wii</td>\n",
       "      <td>Nintendo</td>\n",
       "      <td>Nintendo EAD</td>\n",
       "      <td>NaN</td>\n",
       "      <td>7.7</td>\n",
       "      <td>...</td>\n",
       "      <td>NaN</td>\n",
       "      <td>2006.0</td>\n",
       "      <td>NaN</td>\n",
       "      <td>http://www.vgchartz.com/game/2667/wii-sports/?...</td>\n",
       "      <td>1</td>\n",
       "      <td>NaN</td>\n",
       "      <td>/games/boxart/full_2258645AmericaFrontccc.jpg</td>\n",
       "      <td>NaN</td>\n",
       "      <td>17</td>\n",
       "      <td>64</td>\n",
       "    </tr>\n",
       "    <tr>\n",
       "      <th>1</th>\n",
       "      <td>2</td>\n",
       "      <td>Super Mario Bros.</td>\n",
       "      <td>super-mario-bros</td>\n",
       "      <td>Platform</td>\n",
       "      <td>NaN</td>\n",
       "      <td>NES</td>\n",
       "      <td>Nintendo</td>\n",
       "      <td>Nintendo EAD</td>\n",
       "      <td>NaN</td>\n",
       "      <td>10.0</td>\n",
       "      <td>...</td>\n",
       "      <td>NaN</td>\n",
       "      <td>1985.0</td>\n",
       "      <td>NaN</td>\n",
       "      <td>http://www.vgchartz.com/game/6455/super-mario-...</td>\n",
       "      <td>1</td>\n",
       "      <td>NaN</td>\n",
       "      <td>/games/boxart/8972270ccc.jpg</td>\n",
       "      <td>NaN</td>\n",
       "      <td>10</td>\n",
       "      <td>39</td>\n",
       "    </tr>\n",
       "    <tr>\n",
       "      <th>2</th>\n",
       "      <td>3</td>\n",
       "      <td>Mario Kart Wii</td>\n",
       "      <td>mario-kart-wii</td>\n",
       "      <td>Racing</td>\n",
       "      <td>E</td>\n",
       "      <td>Wii</td>\n",
       "      <td>Nintendo</td>\n",
       "      <td>Nintendo EAD</td>\n",
       "      <td>NaN</td>\n",
       "      <td>8.2</td>\n",
       "      <td>...</td>\n",
       "      <td>NaN</td>\n",
       "      <td>2008.0</td>\n",
       "      <td>11th Apr 18</td>\n",
       "      <td>http://www.vgchartz.com/game/6968/mario-kart-w...</td>\n",
       "      <td>1</td>\n",
       "      <td>8.7</td>\n",
       "      <td>/games/boxart/full_8932480AmericaFrontccc.jpg</td>\n",
       "      <td>NaN</td>\n",
       "      <td>12</td>\n",
       "      <td>64</td>\n",
       "    </tr>\n",
       "    <tr>\n",
       "      <th>3</th>\n",
       "      <td>4</td>\n",
       "      <td>PlayerUnknown's Battlegrounds</td>\n",
       "      <td>playerunknowns-battlegrounds</td>\n",
       "      <td>Shooter</td>\n",
       "      <td>NaN</td>\n",
       "      <td>PC</td>\n",
       "      <td>PUBG Corporation</td>\n",
       "      <td>PUBG Corporation</td>\n",
       "      <td>NaN</td>\n",
       "      <td>NaN</td>\n",
       "      <td>...</td>\n",
       "      <td>NaN</td>\n",
       "      <td>2017.0</td>\n",
       "      <td>13th Nov 18</td>\n",
       "      <td>http://www.vgchartz.com/game/215988/playerunkn...</td>\n",
       "      <td>1</td>\n",
       "      <td>NaN</td>\n",
       "      <td>/games/boxart/full_8052843AmericaFrontccc.jpg</td>\n",
       "      <td>NaN</td>\n",
       "      <td>15</td>\n",
       "      <td>45</td>\n",
       "    </tr>\n",
       "    <tr>\n",
       "      <th>4</th>\n",
       "      <td>5</td>\n",
       "      <td>Wii Sports Resort</td>\n",
       "      <td>wii-sports-resort</td>\n",
       "      <td>Sports</td>\n",
       "      <td>E</td>\n",
       "      <td>Wii</td>\n",
       "      <td>Nintendo</td>\n",
       "      <td>Nintendo EAD</td>\n",
       "      <td>NaN</td>\n",
       "      <td>8.0</td>\n",
       "      <td>...</td>\n",
       "      <td>NaN</td>\n",
       "      <td>2009.0</td>\n",
       "      <td>NaN</td>\n",
       "      <td>http://www.vgchartz.com/game/24656/wii-sports-...</td>\n",
       "      <td>1</td>\n",
       "      <td>8.8</td>\n",
       "      <td>/games/boxart/full_7295041AmericaFrontccc.jpg</td>\n",
       "      <td>NaN</td>\n",
       "      <td>17</td>\n",
       "      <td>64</td>\n",
       "    </tr>\n",
       "  </tbody>\n",
       "</table>\n",
       "<p>5 rows × 26 columns</p>\n",
       "</div>"
      ],
      "text/plain": [
       "   Rank                           Name                      basename  \\\n",
       "0     1                     Wii Sports                    wii-sports   \n",
       "1     2              Super Mario Bros.              super-mario-bros   \n",
       "2     3                 Mario Kart Wii                mario-kart-wii   \n",
       "3     4  PlayerUnknown's Battlegrounds  playerunknowns-battlegrounds   \n",
       "4     5              Wii Sports Resort             wii-sports-resort   \n",
       "\n",
       "      Genre ESRB_Rating Platform         Publisher         Developer  \\\n",
       "0    Sports           E      Wii          Nintendo      Nintendo EAD   \n",
       "1  Platform         NaN      NES          Nintendo      Nintendo EAD   \n",
       "2    Racing           E      Wii          Nintendo      Nintendo EAD   \n",
       "3   Shooter         NaN       PC  PUBG Corporation  PUBG Corporation   \n",
       "4    Sports           E      Wii          Nintendo      Nintendo EAD   \n",
       "\n",
       "   VGChartz_Score  Critic_Score  ...  Other_Sales    Year  Last_Update  \\\n",
       "0             NaN           7.7  ...          NaN  2006.0          NaN   \n",
       "1             NaN          10.0  ...          NaN  1985.0          NaN   \n",
       "2             NaN           8.2  ...          NaN  2008.0  11th Apr 18   \n",
       "3             NaN           NaN  ...          NaN  2017.0  13th Nov 18   \n",
       "4             NaN           8.0  ...          NaN  2009.0          NaN   \n",
       "\n",
       "                                                 url  status  Vgchartzscore  \\\n",
       "0  http://www.vgchartz.com/game/2667/wii-sports/?...       1            NaN   \n",
       "1  http://www.vgchartz.com/game/6455/super-mario-...       1            NaN   \n",
       "2  http://www.vgchartz.com/game/6968/mario-kart-w...       1            8.7   \n",
       "3  http://www.vgchartz.com/game/215988/playerunkn...       1            NaN   \n",
       "4  http://www.vgchartz.com/game/24656/wii-sports-...       1            8.8   \n",
       "\n",
       "                                         img_url  Log_Global_Sales Code_Genre  \\\n",
       "0  /games/boxart/full_2258645AmericaFrontccc.jpg               NaN         17   \n",
       "1                   /games/boxart/8972270ccc.jpg               NaN         10   \n",
       "2  /games/boxart/full_8932480AmericaFrontccc.jpg               NaN         12   \n",
       "3  /games/boxart/full_8052843AmericaFrontccc.jpg               NaN         15   \n",
       "4  /games/boxart/full_7295041AmericaFrontccc.jpg               NaN         17   \n",
       "\n",
       "  Code_Platform  \n",
       "0            64  \n",
       "1            39  \n",
       "2            64  \n",
       "3            45  \n",
       "4            64  \n",
       "\n",
       "[5 rows x 26 columns]"
      ]
     },
     "execution_count": 34,
     "metadata": {},
     "output_type": "execute_result"
    }
   ],
   "source": [
    "Games_dados.head()"
   ]
  },
  {
   "cell_type": "markdown",
   "metadata": {},
   "source": [
    "## Estatisticas Bivariadas\n",
    "* Verificar relação entre algumas variaveis"
   ]
  },
  {
   "cell_type": "code",
   "execution_count": 35,
   "metadata": {},
   "outputs": [
    {
     "data": {
      "image/png": "[encoded data removed]",
      "text/plain": [
       "<Figure size 720x504 with 2 Axes>"
      ]
     },
     "metadata": {
      "needs_background": "light"
     },
     "output_type": "display_data"
    }
   ],
   "source": [
    "import matplotlib.pyplot as plt\n",
    "import seaborn as sns\n",
    "plt.figure(figsize=(10, 7))\n",
    "sns.heatmap(Games_dados.corr(),annot = True,fmt = '.2f',cmap='Blues')\n",
    "plt.title('Correlação entre variáveis do dataset')\n",
    "plt.show()"
   ]
  },
  {
   "cell_type": "markdown",
   "metadata": {},
   "source": [
    "#### Observado: \n",
    "* Global Sales tem uma forte relação com as variaveis (NA sales, PAL sales, JP sales e Other sales) ** ja era esperado **.\n",
    " * Principalment com NA_Sales e PAL_Sales\n",
    "   * NA_SAles (vendas na area Norte Americana)\n",
    "   * PAL_Sales (vendas na area europeia)\n",
    "   \n",
    "\n",
    "* Baixa covariancia entre as variaveis de interesse\n",
    "    * Genre corr de 0.03 Global Sales\n",
    "    * Platform corr 0.09 Global Sales"
   ]
  },
  {
   "cell_type": "markdown",
   "metadata": {},
   "source": [
    "### Plotar alguns  graficos para melhor vizualização da relação entre as variaveis de interesse usadas no começo da exploração dos dados.\n",
    "    * Genre/GlobalSales\n",
    "    * Platform/GlobalSales"
   ]
  },
  {
   "cell_type": "code",
   "execution_count": 36,
   "metadata": {},
   "outputs": [
    {
     "data": {
      "text/plain": [
       "<matplotlib.axes._subplots.AxesSubplot at 0x24c5b3b5390>"
      ]
     },
     "execution_count": 36,
     "metadata": {},
     "output_type": "execute_result"
    },
    {
     "data": {
      "image/png": "[encoded data removed]",
      "text/plain": [
       "<Figure size 432x288 with 1 Axes>"
      ]
     },
     "metadata": {
      "needs_background": "light"
     },
     "output_type": "display_data"
    }
   ],
   "source": [
    "Games_dados.plot.scatter(x='Code_Genre',y='Global_Sales',)"
   ]
  },
  {
   "cell_type": "markdown",
   "metadata": {},
   "source": [
    "#### Grafico Acima mostra a relação entre Global Sales e genre\n",
    "* Mostra a qtd de vendas por genero\n",
    "    * Alguns pontos(em cada genero) estão distantes, podendo ser outliers que estão influenciando a relação"
   ]
  },
  {
   "cell_type": "code",
   "execution_count": 37,
   "metadata": {},
   "outputs": [
    {
     "data": {
      "text/plain": [
       "<matplotlib.axes._subplots.AxesSubplot at 0x24c5e1e50b8>"
      ]
     },
     "execution_count": 37,
     "metadata": {},
     "output_type": "execute_result"
    },
    {
     "data": {
      "image/png": "[encoded data removed]",
      "text/plain": [
       "<Figure size 432x288 with 1 Axes>"
      ]
     },
     "metadata": {
      "needs_background": "light"
     },
     "output_type": "display_data"
    }
   ],
   "source": [
    "Games_dados.plot.scatter(y='Global_Sales',x='Code_Platform')"
   ]
  },
  {
   "cell_type": "markdown",
   "metadata": {},
   "source": [
    "#### Grafico Acima mostra a relação entre Global Sales e Platform\n",
    "* Mostra a qtd de vendas por plataforma (PC,ps2,ps3,ps4...)\n",
    "    * Alguns pontos(em cada plataforma) estão distantes, podendo ser outliers que estão influenciando a relação."
   ]
  },
  {
   "cell_type": "markdown",
   "metadata": {},
   "source": [
    "### Verificar dados Ausentes"
   ]
  },
  {
   "cell_type": "code",
   "execution_count": 38,
   "metadata": {},
   "outputs": [
    {
     "name": "stdout",
     "output_type": "stream",
     "text": [
      "Rank                    0\n",
      "Name                    0\n",
      "basename                0\n",
      "Genre                   0\n",
      "ESRB_Rating         32169\n",
      "Platform                0\n",
      "Publisher               0\n",
      "Developer              17\n",
      "VGChartz_Score      55792\n",
      "Critic_Score        49256\n",
      "User_Score          55457\n",
      "Total_Shipped       53965\n",
      "Global_Sales        36377\n",
      "NA_Sales            42828\n",
      "PAL_Sales           42603\n",
      "JP_Sales            48749\n",
      "Other_Sales         40270\n",
      "Year                  979\n",
      "Last_Update         46606\n",
      "url                     0\n",
      "status                  0\n",
      "Vgchartzscore       54993\n",
      "img_url                 0\n",
      "Log_Global_Sales    36377\n",
      "Code_Genre              0\n",
      "Code_Platform           0\n",
      "dtype: int64\n",
      "\n",
      " (55792, 26)\n"
     ]
    }
   ],
   "source": [
    "print(Games_dados.isnull().sum())\n",
    "print('\\n',Games_dados.shape)"
   ]
  },
  {
   "cell_type": "markdown",
   "metadata": {},
   "source": [
    "#### Dados ausentes NAn\n",
    "* Remoção de Dados (Colunas)\n",
    "    * 'Vgchartzscore', 'VGChartz_Score' com mais de 54000 dados ausentes\n",
    "    * Remoção da coluna Log_Global_Sales (já utilizada)"
   ]
  },
  {
   "cell_type": "code",
   "execution_count": 39,
   "metadata": {},
   "outputs": [
    {
     "data": {
      "text/plain": [
       "(55792, 24)"
      ]
     },
     "execution_count": 39,
     "metadata": {},
     "output_type": "execute_result"
    }
   ],
   "source": [
    "Games_dados.drop(['Vgchartzscore', 'VGChartz_Score'], axis='columns', inplace=True)\n",
    "Games_dados.shape"
   ]
  },
  {
   "cell_type": "code",
   "execution_count": 40,
   "metadata": {},
   "outputs": [],
   "source": [
    "Games_dados.drop(['Log_Global_Sales'], axis='columns', inplace=True)"
   ]
  },
  {
   "cell_type": "markdown",
   "metadata": {},
   "source": [
    "### Descrição dos dados apos a remoção das colunas"
   ]
  },
  {
   "cell_type": "code",
   "execution_count": 41,
   "metadata": {},
   "outputs": [
    {
     "data": {
      "text/html": [
       "<div>\n",
       "<style scoped>\n",
       "    .dataframe tbody tr th:only-of-type {\n",
       "        vertical-align: middle;\n",
       "    }\n",
       "\n",
       "    .dataframe tbody tr th {\n",
       "        vertical-align: top;\n",
       "    }\n",
       "\n",
       "    .dataframe thead th {\n",
       "        text-align: right;\n",
       "    }\n",
       "</style>\n",
       "<table border=\"1\" class=\"dataframe\">\n",
       "  <thead>\n",
       "    <tr style=\"text-align: right;\">\n",
       "      <th></th>\n",
       "      <th>Rank</th>\n",
       "      <th>Critic_Score</th>\n",
       "      <th>User_Score</th>\n",
       "      <th>Total_Shipped</th>\n",
       "      <th>Global_Sales</th>\n",
       "      <th>NA_Sales</th>\n",
       "      <th>PAL_Sales</th>\n",
       "      <th>JP_Sales</th>\n",
       "      <th>Other_Sales</th>\n",
       "      <th>Year</th>\n",
       "      <th>status</th>\n",
       "      <th>Code_Genre</th>\n",
       "      <th>Code_Platform</th>\n",
       "    </tr>\n",
       "  </thead>\n",
       "  <tbody>\n",
       "    <tr>\n",
       "      <th>count</th>\n",
       "      <td>55792.000000</td>\n",
       "      <td>6536.000000</td>\n",
       "      <td>335.000000</td>\n",
       "      <td>1827.000000</td>\n",
       "      <td>19415.000000</td>\n",
       "      <td>12964.000000</td>\n",
       "      <td>13189.000000</td>\n",
       "      <td>7043.000000</td>\n",
       "      <td>15522.000000</td>\n",
       "      <td>54813.000000</td>\n",
       "      <td>55792.0</td>\n",
       "      <td>55792.000000</td>\n",
       "      <td>55792.000000</td>\n",
       "    </tr>\n",
       "    <tr>\n",
       "      <th>mean</th>\n",
       "      <td>27896.500000</td>\n",
       "      <td>7.213709</td>\n",
       "      <td>8.253433</td>\n",
       "      <td>1.887258</td>\n",
       "      <td>0.365503</td>\n",
       "      <td>0.275541</td>\n",
       "      <td>0.155263</td>\n",
       "      <td>0.110402</td>\n",
       "      <td>0.044719</td>\n",
       "      <td>2005.659095</td>\n",
       "      <td>1.0</td>\n",
       "      <td>9.339439</td>\n",
       "      <td>43.731090</td>\n",
       "    </tr>\n",
       "    <tr>\n",
       "      <th>std</th>\n",
       "      <td>16105.907446</td>\n",
       "      <td>1.454079</td>\n",
       "      <td>1.401489</td>\n",
       "      <td>4.195693</td>\n",
       "      <td>0.833022</td>\n",
       "      <td>0.512809</td>\n",
       "      <td>0.399257</td>\n",
       "      <td>0.184673</td>\n",
       "      <td>0.129554</td>\n",
       "      <td>8.355585</td>\n",
       "      <td>0.0</td>\n",
       "      <td>6.028657</td>\n",
       "      <td>16.889183</td>\n",
       "    </tr>\n",
       "    <tr>\n",
       "      <th>min</th>\n",
       "      <td>1.000000</td>\n",
       "      <td>1.000000</td>\n",
       "      <td>2.000000</td>\n",
       "      <td>0.030000</td>\n",
       "      <td>0.000000</td>\n",
       "      <td>0.000000</td>\n",
       "      <td>0.000000</td>\n",
       "      <td>0.000000</td>\n",
       "      <td>0.000000</td>\n",
       "      <td>1970.000000</td>\n",
       "      <td>1.0</td>\n",
       "      <td>0.000000</td>\n",
       "      <td>0.000000</td>\n",
       "    </tr>\n",
       "    <tr>\n",
       "      <th>25%</th>\n",
       "      <td>13948.750000</td>\n",
       "      <td>6.400000</td>\n",
       "      <td>7.800000</td>\n",
       "      <td>0.200000</td>\n",
       "      <td>0.030000</td>\n",
       "      <td>0.050000</td>\n",
       "      <td>0.010000</td>\n",
       "      <td>0.020000</td>\n",
       "      <td>0.000000</td>\n",
       "      <td>2000.000000</td>\n",
       "      <td>1.0</td>\n",
       "      <td>5.000000</td>\n",
       "      <td>34.000000</td>\n",
       "    </tr>\n",
       "    <tr>\n",
       "      <th>50%</th>\n",
       "      <td>27896.500000</td>\n",
       "      <td>7.500000</td>\n",
       "      <td>8.500000</td>\n",
       "      <td>0.590000</td>\n",
       "      <td>0.120000</td>\n",
       "      <td>0.120000</td>\n",
       "      <td>0.040000</td>\n",
       "      <td>0.050000</td>\n",
       "      <td>0.010000</td>\n",
       "      <td>2008.000000</td>\n",
       "      <td>1.0</td>\n",
       "      <td>10.000000</td>\n",
       "      <td>45.000000</td>\n",
       "    </tr>\n",
       "    <tr>\n",
       "      <th>75%</th>\n",
       "      <td>41844.250000</td>\n",
       "      <td>8.300000</td>\n",
       "      <td>9.100000</td>\n",
       "      <td>1.800000</td>\n",
       "      <td>0.360000</td>\n",
       "      <td>0.290000</td>\n",
       "      <td>0.140000</td>\n",
       "      <td>0.120000</td>\n",
       "      <td>0.040000</td>\n",
       "      <td>2011.000000</td>\n",
       "      <td>1.0</td>\n",
       "      <td>15.000000</td>\n",
       "      <td>53.000000</td>\n",
       "    </tr>\n",
       "    <tr>\n",
       "      <th>max</th>\n",
       "      <td>55792.000000</td>\n",
       "      <td>10.000000</td>\n",
       "      <td>10.000000</td>\n",
       "      <td>82.860000</td>\n",
       "      <td>20.320000</td>\n",
       "      <td>9.760000</td>\n",
       "      <td>9.850000</td>\n",
       "      <td>2.690000</td>\n",
       "      <td>3.120000</td>\n",
       "      <td>2020.000000</td>\n",
       "      <td>1.0</td>\n",
       "      <td>19.000000</td>\n",
       "      <td>73.000000</td>\n",
       "    </tr>\n",
       "  </tbody>\n",
       "</table>\n",
       "</div>"
      ],
      "text/plain": [
       "               Rank  Critic_Score  User_Score  Total_Shipped  Global_Sales  \\\n",
       "count  55792.000000   6536.000000  335.000000    1827.000000  19415.000000   \n",
       "mean   27896.500000      7.213709    8.253433       1.887258      0.365503   \n",
       "std    16105.907446      1.454079    1.401489       4.195693      0.833022   \n",
       "min        1.000000      1.000000    2.000000       0.030000      0.000000   \n",
       "25%    13948.750000      6.400000    7.800000       0.200000      0.030000   \n",
       "50%    27896.500000      7.500000    8.500000       0.590000      0.120000   \n",
       "75%    41844.250000      8.300000    9.100000       1.800000      0.360000   \n",
       "max    55792.000000     10.000000   10.000000      82.860000     20.320000   \n",
       "\n",
       "           NA_Sales     PAL_Sales     JP_Sales   Other_Sales          Year  \\\n",
       "count  12964.000000  13189.000000  7043.000000  15522.000000  54813.000000   \n",
       "mean       0.275541      0.155263     0.110402      0.044719   2005.659095   \n",
       "std        0.512809      0.399257     0.184673      0.129554      8.355585   \n",
       "min        0.000000      0.000000     0.000000      0.000000   1970.000000   \n",
       "25%        0.050000      0.010000     0.020000      0.000000   2000.000000   \n",
       "50%        0.120000      0.040000     0.050000      0.010000   2008.000000   \n",
       "75%        0.290000      0.140000     0.120000      0.040000   2011.000000   \n",
       "max        9.760000      9.850000     2.690000      3.120000   2020.000000   \n",
       "\n",
       "        status    Code_Genre  Code_Platform  \n",
       "count  55792.0  55792.000000   55792.000000  \n",
       "mean       1.0      9.339439      43.731090  \n",
       "std        0.0      6.028657      16.889183  \n",
       "min        1.0      0.000000       0.000000  \n",
       "25%        1.0      5.000000      34.000000  \n",
       "50%        1.0     10.000000      45.000000  \n",
       "75%        1.0     15.000000      53.000000  \n",
       "max        1.0     19.000000      73.000000  "
      ]
     },
     "execution_count": 41,
     "metadata": {},
     "output_type": "execute_result"
    }
   ],
   "source": [
    "Games_dados.describe()"
   ]
  },
  {
   "cell_type": "markdown",
   "metadata": {},
   "source": [
    "## Verificando Relaçao de vendas mais a fundo\n",
    "* Por genre\n",
    "* por PLatform"
   ]
  },
  {
   "cell_type": "markdown",
   "metadata": {},
   "source": [
    "* Verificando vendas por genero"
   ]
  },
  {
   "cell_type": "code",
   "execution_count": 42,
   "metadata": {},
   "outputs": [
    {
     "data": {
      "text/plain": [
       "Genre\n",
       "Sports              1228.20\n",
       "Action              1206.82\n",
       "Shooter             1051.74\n",
       "Misc                 596.64\n",
       "Racing               547.71\n",
       "Role-Playing         502.12\n",
       "Platform             424.51\n",
       "Fighting             363.98\n",
       "Adventure            346.17\n",
       "Simulation           320.32\n",
       "Action-Adventure     155.45\n",
       "Strategy             144.22\n",
       "Puzzle               132.54\n",
       "Music                 52.81\n",
       "MMO                   11.86\n",
       "Party                  5.39\n",
       "Visual Novel           3.47\n",
       "Sandbox                1.89\n",
       "Board Game             0.31\n",
       "Education              0.09\n",
       "Name: Global_Sales, dtype: float64"
      ]
     },
     "execution_count": 42,
     "metadata": {},
     "output_type": "execute_result"
    }
   ],
   "source": [
    "# Total de vendas por genre *todos possuem valor agregado\n",
    "Games_dados.groupby('Genre')['Global_Sales'].sum().sort_values(ascending=False)\n",
    "\n",
    "# Interessante: Misc é a moda porem não foi o mais vendido"
   ]
  },
  {
   "cell_type": "markdown",
   "metadata": {},
   "source": [
    "#### Observado: \n",
    "* Misc é a moda de genero porem não é a que mais vendeu\n",
    "    * Genre mais vendido Sports (Misc sendo o 4 mais rentável)\n",
    "\n",
    "#### Plotar Graficos para melhor vizualização "
   ]
  },
  {
   "cell_type": "code",
   "execution_count": 43,
   "metadata": {},
   "outputs": [
    {
     "data": {
      "text/plain": [
       "<matplotlib.axes._subplots.AxesSubplot at 0x24c5e518a90>"
      ]
     },
     "execution_count": 43,
     "metadata": {},
     "output_type": "execute_result"
    },
    {
     "data": {
      "image/png": "[encoded data removed]",
      "text/plain": [
       "<Figure size 432x288 with 1 Axes>"
      ]
     },
     "metadata": {
      "needs_background": "light"
     },
     "output_type": "display_data"
    }
   ],
   "source": [
    "Games_dados.groupby('Genre')['Global_Sales'].sum().plot.bar()"
   ]
  },
  {
   "cell_type": "code",
   "execution_count": 44,
   "metadata": {},
   "outputs": [
    {
     "data": {
      "text/plain": [
       "<matplotlib.axes._subplots.AxesSubplot at 0x24c5e4bf358>"
      ]
     },
     "execution_count": 44,
     "metadata": {},
     "output_type": "execute_result"
    },
    {
     "data": {
      "image/png": "[encoded data removed]",
      "text/plain": [
       "<Figure size 432x288 with 1 Axes>"
      ]
     },
     "metadata": {
      "needs_background": "light"
     },
     "output_type": "display_data"
    }
   ],
   "source": [
    "Games_dados.groupby('Genre')['Global_Sales'].sum().plot.hist()"
   ]
  },
  {
   "cell_type": "markdown",
   "metadata": {},
   "source": [
    "* verificando vendas por platform"
   ]
  },
  {
   "cell_type": "code",
   "execution_count": 45,
   "metadata": {},
   "outputs": [
    {
     "name": "stdout",
     "output_type": "stream",
     "text": [
      "Platform\n",
      "PS2     1103.62\n",
      "PS3      905.72\n",
      "X360     889.49\n",
      "PS       627.06\n",
      "PS4      585.09\n",
      "Wii      500.39\n",
      "DS       469.65\n",
      "XOne     278.56\n",
      "PSP      263.71\n",
      "XB       237.72\n",
      "GBA      231.41\n",
      "PC       198.54\n",
      "GC       121.54\n",
      "3DS      117.77\n",
      "N64      100.62\n",
      "2600      89.27\n",
      "SNES      69.45\n",
      "PSV       65.37\n",
      "NS        49.88\n",
      "NES       47.93\n",
      "Name: Global_Sales, dtype: float64\n",
      "\n",
      " Platform\n",
      "NGage    0.0\n",
      "iOS      0.0\n",
      "MSD      0.0\n",
      "MS       0.0\n",
      "Lynx     0.0\n",
      "Linux    0.0\n",
      "Int      0.0\n",
      "GIZ      0.0\n",
      "FMT      0.0\n",
      "MSX      0.0\n",
      "Name: Global_Sales, dtype: float64\n"
     ]
    }
   ],
   "source": [
    "# Total de vendas por platform (alguns estão zerados)\n",
    "print(Games_dados.groupby('Platform')['Global_Sales'].sum().sort_values(ascending=False).head(20))\n",
    "print('\\n',Games_dados.groupby('Platform')['Global_Sales'].sum().sort_values(ascending=False).tail(10))\n",
    "\n",
    "# Interessante: PC é a moda porem não foi o mais vendido"
   ]
  },
  {
   "cell_type": "markdown",
   "metadata": {},
   "source": [
    "#### Observado: \n",
    "* Pc é a moda de platform porem não é a que mais vendeu\n",
    "    * Platform mais vendido PS2\n",
    "        * Pc não entra na lista de 10 mais rentaveis.\n",
    "\n",
    "#### Plotar Graficos para melhor vizualização "
   ]
  },
  {
   "cell_type": "code",
   "execution_count": 46,
   "metadata": {},
   "outputs": [
    {
     "data": {
      "text/plain": [
       "<matplotlib.axes._subplots.AxesSubplot at 0x24c5b3b59e8>"
      ]
     },
     "execution_count": 46,
     "metadata": {},
     "output_type": "execute_result"
    },
    {
     "data": {
      "image/png": "[encoded data removed]",
      "text/plain": [
       "<Figure size 432x288 with 1 Axes>"
      ]
     },
     "metadata": {
      "needs_background": "light"
     },
     "output_type": "display_data"
    }
   ],
   "source": [
    "Games_dados.groupby('Platform')['Global_Sales'].sum().plot.hist()"
   ]
  },
  {
   "cell_type": "code",
   "execution_count": 47,
   "metadata": {},
   "outputs": [
    {
     "data": {
      "text/plain": [
       "<matplotlib.axes._subplots.AxesSubplot at 0x24c5e298208>"
      ]
     },
     "execution_count": 47,
     "metadata": {},
     "output_type": "execute_result"
    },
    {
     "data": {
      "image/png": "[encoded data removed]",
      "text/plain": [
       "<Figure size 1584x864 with 1 Axes>"
      ]
     },
     "metadata": {
      "needs_background": "light"
     },
     "output_type": "display_data"
    }
   ],
   "source": [
    "Games_dados.groupby('Platform')['Global_Sales'].sum().plot(kind='bar', figsize=(22,12))"
   ]
  },
  {
   "cell_type": "code",
   "execution_count": 48,
   "metadata": {},
   "outputs": [
    {
     "name": "stdout",
     "output_type": "stream",
     "text": [
      "36377\n"
     ]
    }
   ],
   "source": [
    "print(Games_dados.Global_Sales.isnull().sum())"
   ]
  },
  {
   "cell_type": "markdown",
   "metadata": {},
   "source": [
    "#### Problema: \n",
    "* Voltando para quantidade de valore Nan em Global Sales\n",
    "    * Foi verificado que isso acontece pois global sales é a soma das outras variaveis XX_Sales porem algumas estão zeradas enquanto outras possuem valor Nan, gerando assim muitos valores Nan em Global Sales\n",
    "    \n",
    "#### Ideia de solução:\n",
    "* Usar median de global sales para melhorar a distribuição de vendas(filtrada por alguma outra variavel ex: genre)\n",
    "    * median pois temos alguns valores muito afastados da media.(evitar outliers).\n"
   ]
  },
  {
   "cell_type": "markdown",
   "metadata": {},
   "source": [
    "### Abaixo mediana de vendas por genero"
   ]
  },
  {
   "cell_type": "code",
   "execution_count": 49,
   "metadata": {},
   "outputs": [
    {
     "data": {
      "text/plain": [
       "Genre\n",
       "Action              0.150\n",
       "Action-Adventure    0.230\n",
       "Adventure           0.040\n",
       "Board Game          0.155\n",
       "Education           0.090\n",
       "Fighting            0.170\n",
       "MMO                 0.150\n",
       "Misc                0.090\n",
       "Music               0.170\n",
       "Party               0.135\n",
       "Platform            0.180\n",
       "Puzzle              0.060\n",
       "Racing              0.140\n",
       "Role-Playing        0.120\n",
       "Sandbox             1.890\n",
       "Shooter             0.180\n",
       "Simulation          0.090\n",
       "Sports              0.200\n",
       "Strategy            0.060\n",
       "Visual Novel        0.020\n",
       "Name: Global_Sales, dtype: float64"
      ]
     },
     "execution_count": 49,
     "metadata": {},
     "output_type": "execute_result"
    }
   ],
   "source": [
    "Games_dados.groupby('Genre')['Global_Sales'].median()"
   ]
  },
  {
   "cell_type": "markdown",
   "metadata": {},
   "source": [
    "### Abaixo mediana de vendas \n",
    "* filtrada :\n",
    "    * Genre\n",
    "    * Year\n",
    "    * Platform"
   ]
  },
  {
   "cell_type": "code",
   "execution_count": 50,
   "metadata": {},
   "outputs": [
    {
     "data": {
      "text/plain": [
       "Year    Platform  Genre       \n",
       "1970.0  2600      Action          0.21\n",
       "        DS        Action           NaN\n",
       "                  Misc             NaN\n",
       "                  Role-Playing     NaN\n",
       "        GBA       Platform         NaN\n",
       "        PC        Action           NaN\n",
       "                  Adventure       0.00\n",
       "                  Fighting         NaN\n",
       "                  Misc             NaN\n",
       "                  Puzzle           NaN\n",
       "                  Racing          0.01\n",
       "                  Role-Playing    0.42\n",
       "                  Shooter         0.01\n",
       "                  Simulation       NaN\n",
       "                  Sports          0.01\n",
       "                  Strategy        0.01\n",
       "        PS2       Fighting         NaN\n",
       "                  Misc             NaN\n",
       "                  Role-Playing     NaN\n",
       "                  Sports           NaN\n",
       "        PS3       Misc            0.04\n",
       "                  Puzzle           NaN\n",
       "                  Role-Playing     NaN\n",
       "                  Shooter          NaN\n",
       "        PSN       Puzzle           NaN\n",
       "                  Racing           NaN\n",
       "                  Role-Playing     NaN\n",
       "                  Shooter          NaN\n",
       "        PSP       Adventure       0.24\n",
       "                  Fighting         NaN\n",
       "                                  ... \n",
       "2020.0  WW        Action           NaN\n",
       "                  Puzzle           NaN\n",
       "        Wii       Action           NaN\n",
       "                  Adventure        NaN\n",
       "                  Misc            0.00\n",
       "                  Puzzle          0.16\n",
       "                  Racing          0.01\n",
       "                  Role-Playing     NaN\n",
       "                  Simulation       NaN\n",
       "                  Sports           NaN\n",
       "        WiiU      Action          0.00\n",
       "                  Misc             NaN\n",
       "        X360      Action           NaN\n",
       "                  Adventure        NaN\n",
       "                  Misc            0.03\n",
       "                  Racing           NaN\n",
       "                  Role-Playing     NaN\n",
       "                  Shooter          NaN\n",
       "                  Sports           NaN\n",
       "        XBL       Misc             NaN\n",
       "                  Puzzle           NaN\n",
       "                  Shooter          NaN\n",
       "        XOne      Action           NaN\n",
       "                  Adventure        NaN\n",
       "                  Fighting         NaN\n",
       "                  Misc             NaN\n",
       "                  Platform         NaN\n",
       "                  Racing           NaN\n",
       "                  Role-Playing     NaN\n",
       "                  Strategy         NaN\n",
       "Name: Global_Sales, Length: 5094, dtype: float64"
      ]
     },
     "execution_count": 50,
     "metadata": {},
     "output_type": "execute_result"
    }
   ],
   "source": [
    "Games_dados.groupby(['Year','Platform','Genre'])['Global_Sales'].median()"
   ]
  },
  {
   "cell_type": "markdown",
   "metadata": {},
   "source": [
    "#### Preenchendo valores Nan com a mediana do Global Sales pelo genre\n",
    "* Criando nova variavel:\n",
    "    * Global_Sales_GenMed = (valores nan de Global Sales preenchidos por median(GS) filtrados pelo genre)"
   ]
  },
  {
   "cell_type": "code",
   "execution_count": 51,
   "metadata": {},
   "outputs": [],
   "source": [
    "Games_dados['Global_Sales_GenMed'] = Games_dados['Global_Sales'].fillna(Games_dados.groupby('Genre')['Global_Sales'].transform('median'))"
   ]
  },
  {
   "cell_type": "code",
   "execution_count": 52,
   "metadata": {},
   "outputs": [
    {
     "name": "stdout",
     "output_type": "stream",
     "text": [
      "Rank                       0\n",
      "Name                       0\n",
      "basename                   0\n",
      "Genre                      0\n",
      "ESRB_Rating            32169\n",
      "Platform                   0\n",
      "Publisher                  0\n",
      "Developer                 17\n",
      "Critic_Score           49256\n",
      "User_Score             55457\n",
      "Total_Shipped          53965\n",
      "Global_Sales           36377\n",
      "NA_Sales               42828\n",
      "PAL_Sales              42603\n",
      "JP_Sales               48749\n",
      "Other_Sales            40270\n",
      "Year                     979\n",
      "Last_Update            46606\n",
      "url                        0\n",
      "status                     0\n",
      "img_url                    0\n",
      "Code_Genre                 0\n",
      "Code_Platform              0\n",
      "Global_Sales_GenMed        0\n",
      "dtype: int64\n"
     ]
    }
   ],
   "source": [
    "print(Games_dados.isnull().sum())"
   ]
  },
  {
   "cell_type": "code",
   "execution_count": 53,
   "metadata": {},
   "outputs": [
    {
     "data": {
      "text/plain": [
       "0.20530801907092813"
      ]
     },
     "execution_count": 53,
     "metadata": {},
     "output_type": "execute_result"
    }
   ],
   "source": [
    "Games_dados.Global_Sales_GenMed.mean()"
   ]
  },
  {
   "cell_type": "code",
   "execution_count": 54,
   "metadata": {},
   "outputs": [
    {
     "data": {
      "text/plain": [
       "0.12"
      ]
     },
     "execution_count": 54,
     "metadata": {},
     "output_type": "execute_result"
    }
   ],
   "source": [
    "Games_dados.Global_Sales_GenMed.median()"
   ]
  },
  {
   "cell_type": "code",
   "execution_count": 55,
   "metadata": {},
   "outputs": [
    {
     "data": {
      "text/plain": [
       "0.25736594131111284"
      ]
     },
     "execution_count": 55,
     "metadata": {},
     "output_type": "execute_result"
    }
   ],
   "source": [
    "Games_dados.Global_Sales_GenMed.var()"
   ]
  },
  {
   "cell_type": "code",
   "execution_count": 56,
   "metadata": {},
   "outputs": [
    {
     "data": {
      "text/plain": [
       "0.5073124691066767"
      ]
     },
     "execution_count": 56,
     "metadata": {},
     "output_type": "execute_result"
    }
   ],
   "source": [
    "Games_dados.Global_Sales_GenMed.std()"
   ]
  },
  {
   "cell_type": "markdown",
   "metadata": {},
   "source": [
    "#### Observado: \n",
    "* Diferença entre Media e mediana foi diminuida e valores de variancia e desvio padrão diminuiram bastante.\n",
    "* Não ainda existem dados faltantes Nan.\n",
    "\n",
    "#### Plotar graficos para uma melhor vizualização"
   ]
  },
  {
   "cell_type": "code",
   "execution_count": 57,
   "metadata": {},
   "outputs": [
    {
     "data": {
      "text/plain": [
       "<matplotlib.axes._subplots.AxesSubplot at 0x24c5e3ecba8>"
      ]
     },
     "execution_count": 57,
     "metadata": {},
     "output_type": "execute_result"
    },
    {
     "data": {
      "image/png": "[encoded data removed]",
      "text/plain": [
       "<Figure size 432x288 with 1 Axes>"
      ]
     },
     "metadata": {
      "needs_background": "light"
     },
     "output_type": "display_data"
    }
   ],
   "source": [
    "Games_dados.Global_Sales_GenMed.hist()"
   ]
  },
  {
   "cell_type": "code",
   "execution_count": 58,
   "metadata": {},
   "outputs": [
    {
     "data": {
      "text/plain": [
       "<matplotlib.axes._subplots.AxesSubplot at 0x24c5e658198>"
      ]
     },
     "execution_count": 58,
     "metadata": {},
     "output_type": "execute_result"
    },
    {
     "data": {
      "image/png": "[encoded data removed]",
      "text/plain": [
       "<Figure size 432x288 with 1 Axes>"
      ]
     },
     "metadata": {
      "needs_background": "light"
     },
     "output_type": "display_data"
    }
   ],
   "source": [
    "Games_dados['Log_Global_Sales_GenMed'] = Games_dados['Global_Sales_GenMed'].apply(np.log10)\n",
    "Games_dados[Games_dados['Log_Global_Sales_GenMed'] > 0]['Log_Global_Sales_GenMed'].hist()"
   ]
  },
  {
   "cell_type": "code",
   "execution_count": 59,
   "metadata": {},
   "outputs": [
    {
     "data": {
      "text/plain": [
       "<matplotlib.axes._subplots.AxesSubplot at 0x24c5fa6c5f8>"
      ]
     },
     "execution_count": 59,
     "metadata": {},
     "output_type": "execute_result"
    },
    {
     "data": {
      "image/png": "[encoded data removed]",
      "text/plain": [
       "<Figure size 432x288 with 1 Axes>"
      ]
     },
     "metadata": {
      "needs_background": "light"
     },
     "output_type": "display_data"
    }
   ],
   "source": [
    "Games_dados.boxplot(column=['Log_Global_Sales_GenMed'])"
   ]
  },
  {
   "cell_type": "code",
   "execution_count": 60,
   "metadata": {},
   "outputs": [],
   "source": [
    "Games_dados.drop(['Log_Global_Sales_GenMed'], axis='columns', inplace=True)"
   ]
  },
  {
   "cell_type": "markdown",
   "metadata": {},
   "source": [
    "#### Preenchendo valores Nan com a mediana do Global Sales pelo genre year e platform\n",
    "* Criando nova variavel:\n",
    "    * Global_Sales_GypMed = (valores nan de Global Sales preenchidos por median(GS) filtrados pelo genre,year e platform)"
   ]
  },
  {
   "cell_type": "code",
   "execution_count": 61,
   "metadata": {},
   "outputs": [],
   "source": [
    "Games_dados['Global_Sales_GypMed'] = Games_dados['Global_Sales'].fillna(Games_dados.groupby(['Year','Platform','Genre'])['Global_Sales'].transform('median'))"
   ]
  },
  {
   "cell_type": "code",
   "execution_count": 62,
   "metadata": {},
   "outputs": [
    {
     "name": "stdout",
     "output_type": "stream",
     "text": [
      "Rank                       0\n",
      "Name                       0\n",
      "basename                   0\n",
      "Genre                      0\n",
      "ESRB_Rating            32169\n",
      "Platform                   0\n",
      "Publisher                  0\n",
      "Developer                 17\n",
      "Critic_Score           49256\n",
      "User_Score             55457\n",
      "Total_Shipped          53965\n",
      "Global_Sales           36377\n",
      "NA_Sales               42828\n",
      "PAL_Sales              42603\n",
      "JP_Sales               48749\n",
      "Other_Sales            40270\n",
      "Year                     979\n",
      "Last_Update            46606\n",
      "url                        0\n",
      "status                     0\n",
      "img_url                    0\n",
      "Code_Genre                 0\n",
      "Code_Platform              0\n",
      "Global_Sales_GenMed        0\n",
      "Global_Sales_GypMed    16264\n",
      "dtype: int64\n"
     ]
    }
   ],
   "source": [
    "print(Games_dados.isnull().sum())"
   ]
  },
  {
   "cell_type": "code",
   "execution_count": 63,
   "metadata": {},
   "outputs": [
    {
     "data": {
      "text/plain": [
       "0.27946860453354466"
      ]
     },
     "execution_count": 63,
     "metadata": {},
     "output_type": "execute_result"
    }
   ],
   "source": [
    "Games_dados.Global_Sales_GypMed.mean()"
   ]
  },
  {
   "cell_type": "code",
   "execution_count": 64,
   "metadata": {},
   "outputs": [
    {
     "data": {
      "text/plain": [
       "0.09"
      ]
     },
     "execution_count": 64,
     "metadata": {},
     "output_type": "execute_result"
    }
   ],
   "source": [
    "Games_dados.Global_Sales_GypMed.median()"
   ]
  },
  {
   "cell_type": "code",
   "execution_count": 65,
   "metadata": {},
   "outputs": [
    {
     "data": {
      "text/plain": [
       "0.4346103995506946"
      ]
     },
     "execution_count": 65,
     "metadata": {},
     "output_type": "execute_result"
    }
   ],
   "source": [
    "Games_dados.Global_Sales_GypMed.var()"
   ]
  },
  {
   "cell_type": "code",
   "execution_count": 66,
   "metadata": {},
   "outputs": [
    {
     "data": {
      "text/plain": [
       "0.6592498764131053"
      ]
     },
     "execution_count": 66,
     "metadata": {},
     "output_type": "execute_result"
    }
   ],
   "source": [
    "Games_dados.Global_Sales_GypMed.std()"
   ]
  },
  {
   "cell_type": "markdown",
   "metadata": {},
   "source": [
    "#### Observado: \n",
    "* Diferença entre Media e mediana ainda se mantem e valores de variancia e desvio padrão ,antes altos, diminuiram pouco.\n",
    "* Ainda existem dados faltantes Nan.(Total de nan = 16264)\n",
    "\n",
    "#### Plotar graficos para uma melhor vizualização"
   ]
  },
  {
   "cell_type": "code",
   "execution_count": 67,
   "metadata": {},
   "outputs": [
    {
     "data": {
      "text/plain": [
       "<matplotlib.axes._subplots.AxesSubplot at 0x24c5facfd30>"
      ]
     },
     "execution_count": 67,
     "metadata": {},
     "output_type": "execute_result"
    },
    {
     "data": {
      "image/png": "[encoded data removed]",
      "text/plain": [
       "<Figure size 432x288 with 1 Axes>"
      ]
     },
     "metadata": {
      "needs_background": "light"
     },
     "output_type": "display_data"
    }
   ],
   "source": [
    "Games_dados.Global_Sales_GypMed.hist()"
   ]
  },
  {
   "cell_type": "code",
   "execution_count": 68,
   "metadata": {},
   "outputs": [
    {
     "data": {
      "text/plain": [
       "<matplotlib.axes._subplots.AxesSubplot at 0x24c5fae7710>"
      ]
     },
     "execution_count": 68,
     "metadata": {},
     "output_type": "execute_result"
    },
    {
     "data": {
      "image/png": "[encoded data removed]",
      "text/plain": [
       "<Figure size 432x288 with 1 Axes>"
      ]
     },
     "metadata": {
      "needs_background": "light"
     },
     "output_type": "display_data"
    }
   ],
   "source": [
    "Games_dados['Log_Global_Sales_GypMed'] = Games_dados['Global_Sales_GypMed'].apply(np.log10)\n",
    "Games_dados[Games_dados['Log_Global_Sales_GypMed'] > 0]['Log_Global_Sales_GypMed'].hist()"
   ]
  },
  {
   "cell_type": "code",
   "execution_count": 69,
   "metadata": {},
   "outputs": [
    {
     "data": {
      "text/plain": [
       "<matplotlib.axes._subplots.AxesSubplot at 0x24c5fbca0f0>"
      ]
     },
     "execution_count": 69,
     "metadata": {},
     "output_type": "execute_result"
    },
    {
     "data": {
      "image/png": "[encoded data removed]",
      "text/plain": [
       "<Figure size 432x288 with 1 Axes>"
      ]
     },
     "metadata": {
      "needs_background": "light"
     },
     "output_type": "display_data"
    }
   ],
   "source": [
    "Games_dados.boxplot(column=['Log_Global_Sales_GypMed'])"
   ]
  },
  {
   "cell_type": "code",
   "execution_count": 70,
   "metadata": {},
   "outputs": [],
   "source": [
    "Games_dados.drop(['Log_Global_Sales_GypMed'], axis='columns', inplace=True)"
   ]
  },
  {
   "cell_type": "markdown",
   "metadata": {},
   "source": [
    "#### Preenchendo valores Nan com a mediana do Global Sales pelo genre year\n",
    "* Criando nova variavel:\n",
    "    * Global_Sales_GyMed = (valores nan de Global Sales preenchidos por median(GS) filtrados pelo genre,year)"
   ]
  },
  {
   "cell_type": "code",
   "execution_count": 71,
   "metadata": {},
   "outputs": [],
   "source": [
    "Games_dados['Global_Sales_GyMed'] = Games_dados['Global_Sales'].fillna(Games_dados.groupby(['Year','Genre'])['Global_Sales'].transform('median'))"
   ]
  },
  {
   "cell_type": "code",
   "execution_count": 72,
   "metadata": {},
   "outputs": [
    {
     "name": "stdout",
     "output_type": "stream",
     "text": [
      "Rank                       0\n",
      "Name                       0\n",
      "basename                   0\n",
      "Genre                      0\n",
      "ESRB_Rating            32169\n",
      "Platform                   0\n",
      "Publisher                  0\n",
      "Developer                 17\n",
      "Critic_Score           49256\n",
      "User_Score             55457\n",
      "Total_Shipped          53965\n",
      "Global_Sales           36377\n",
      "NA_Sales               42828\n",
      "PAL_Sales              42603\n",
      "JP_Sales               48749\n",
      "Other_Sales            40270\n",
      "Year                     979\n",
      "Last_Update            46606\n",
      "url                        0\n",
      "status                     0\n",
      "img_url                    0\n",
      "Code_Genre                 0\n",
      "Code_Platform              0\n",
      "Global_Sales_GenMed        0\n",
      "Global_Sales_GypMed    16264\n",
      "Global_Sales_GyMed      2383\n",
      "dtype: int64\n"
     ]
    }
   ],
   "source": [
    "print(Games_dados.isnull().sum())"
   ]
  },
  {
   "cell_type": "code",
   "execution_count": 73,
   "metadata": {},
   "outputs": [
    {
     "data": {
      "text/plain": [
       "0.25394371735106896"
      ]
     },
     "execution_count": 73,
     "metadata": {},
     "output_type": "execute_result"
    }
   ],
   "source": [
    "Games_dados.Global_Sales_GyMed.mean()"
   ]
  },
  {
   "cell_type": "code",
   "execution_count": 74,
   "metadata": {},
   "outputs": [
    {
     "data": {
      "text/plain": [
       "0.13"
      ]
     },
     "execution_count": 74,
     "metadata": {},
     "output_type": "execute_result"
    }
   ],
   "source": [
    "Games_dados.Global_Sales_GyMed.median()"
   ]
  },
  {
   "cell_type": "code",
   "execution_count": 75,
   "metadata": {},
   "outputs": [
    {
     "data": {
      "text/plain": [
       "0.3098703871107698"
      ]
     },
     "execution_count": 75,
     "metadata": {},
     "output_type": "execute_result"
    }
   ],
   "source": [
    "Games_dados.Global_Sales_GyMed.var()"
   ]
  },
  {
   "cell_type": "code",
   "execution_count": 76,
   "metadata": {},
   "outputs": [
    {
     "data": {
      "text/plain": [
       "0.5566600283034249"
      ]
     },
     "execution_count": 76,
     "metadata": {},
     "output_type": "execute_result"
    }
   ],
   "source": [
    "Games_dados.Global_Sales_GyMed.std()"
   ]
  },
  {
   "cell_type": "markdown",
   "metadata": {},
   "source": [
    "#### Observado: \n",
    "* Resultado parecido com o filtrado apenas por genero.\n",
    "   * Diferenças:\n",
    "    * Diferença entre media e mediana um pouco mais elevada\n",
    "    * Var e std uma pouco mais elevado.\n",
    "* Existem valores Nan(total = 2383)   \n",
    "#### Plotar graficos para uma melhor vizualização"
   ]
  },
  {
   "cell_type": "code",
   "execution_count": 77,
   "metadata": {},
   "outputs": [
    {
     "data": {
      "text/plain": [
       "<matplotlib.axes._subplots.AxesSubplot at 0x24c5fc26780>"
      ]
     },
     "execution_count": 77,
     "metadata": {},
     "output_type": "execute_result"
    },
    {
     "data": {
      "image/png": "[encoded data removed]",
      "text/plain": [
       "<Figure size 432x288 with 1 Axes>"
      ]
     },
     "metadata": {
      "needs_background": "light"
     },
     "output_type": "display_data"
    }
   ],
   "source": [
    "Games_dados.Global_Sales_GyMed.hist()"
   ]
  },
  {
   "cell_type": "code",
   "execution_count": 78,
   "metadata": {},
   "outputs": [
    {
     "data": {
      "text/plain": [
       "<matplotlib.axes._subplots.AxesSubplot at 0x24c5fb35d30>"
      ]
     },
     "execution_count": 78,
     "metadata": {},
     "output_type": "execute_result"
    },
    {
     "data": {
      "image/png": "[encoded data removed]",
      "text/plain": [
       "<Figure size 432x288 with 1 Axes>"
      ]
     },
     "metadata": {
      "needs_background": "light"
     },
     "output_type": "display_data"
    }
   ],
   "source": [
    "Games_dados['Log_Global_Sales_GyMed'] = Games_dados['Global_Sales_GyMed'].apply(np.log10)\n",
    "Games_dados[Games_dados['Log_Global_Sales_GyMed'] > 0]['Log_Global_Sales_GyMed'].hist()"
   ]
  },
  {
   "cell_type": "code",
   "execution_count": 79,
   "metadata": {},
   "outputs": [
    {
     "data": {
      "text/plain": [
       "<matplotlib.axes._subplots.AxesSubplot at 0x24c5fd24ac8>"
      ]
     },
     "execution_count": 79,
     "metadata": {},
     "output_type": "execute_result"
    },
    {
     "data": {
      "image/png": "[encoded data removed]",
      "text/plain": [
       "<Figure size 432x288 with 1 Axes>"
      ]
     },
     "metadata": {
      "needs_background": "light"
     },
     "output_type": "display_data"
    }
   ],
   "source": [
    "Games_dados.boxplot(column=['Log_Global_Sales_GyMed'])"
   ]
  },
  {
   "cell_type": "code",
   "execution_count": 80,
   "metadata": {},
   "outputs": [],
   "source": [
    "Games_dados.drop(['Log_Global_Sales_GyMed'], axis='columns', inplace=True)"
   ]
  },
  {
   "cell_type": "markdown",
   "metadata": {},
   "source": [
    "### Testar Normalidade \n",
    "teste de normalidade shapiro wilk\n",
    "* Os meus dados diferem de uma distribuição normal?\n",
    "    * P-value > 0.05\n",
    "        * Não = Meus dados não diferem(São normais)\n",
    "    * P-value < 0.05\n",
    "        * Sim = Meus dados diferem de uma distribuição normal(Não são normais)    "
   ]
  },
  {
   "cell_type": "code",
   "execution_count": 106,
   "metadata": {},
   "outputs": [
    {
     "name": "stderr",
     "output_type": "stream",
     "text": [
      "C:\\Users\\Usuário\\Anaconda3\\lib\\site-packages\\scipy\\stats\\morestats.py:1653: UserWarning: p-value may not be accurate for N > 5000.\n",
      "  warnings.warn(\"p-value may not be accurate for N > 5000.\")\n"
     ]
    },
    {
     "data": {
      "text/plain": [
       "(0.26057636737823486, 0.0)"
      ]
     },
     "execution_count": 106,
     "metadata": {},
     "output_type": "execute_result"
    }
   ],
   "source": [
    "from scipy import stats\n",
    "#Shapiro-Wilk test de normalidade (valor,p-value)\n",
    "stats.shapiro(Games_dados['Global_Sales_GenMed'])"
   ]
  },
  {
   "cell_type": "markdown",
   "metadata": {},
   "source": [
    "#### Segundo o Teste shapiro wilk meus dados não são normais.\n",
    "*  Como deu esse warning \"p-value may not be accurate for N > 5000.\" vamoes fazer outro teste para confirmar"
   ]
  },
  {
   "cell_type": "markdown",
   "metadata": {},
   "source": [
    "* Testar Normalidade - Anderson-Darling"
   ]
  },
  {
   "cell_type": "code",
   "execution_count": 107,
   "metadata": {},
   "outputs": [
    {
     "name": "stdout",
     "output_type": "stream",
     "text": [
      "12118.715610626852\n",
      "[0.576 0.656 0.787 0.918 1.092]\n",
      "[15.  10.   5.   2.5  1. ]\n",
      "Com 95.0% de confiança, os dados Não são similares a uma distribuição normal segundo o teste de Anderson Darling.\n"
     ]
    }
   ],
   "source": [
    "#print(stats.anderson(Games_dados['Global_Sales_GenMed'],'norm'))\n",
    "ad_stat, ad_critic,ad_teorico = stats.anderson(Games_dados['Global_Sales_GenMed'],'norm')\n",
    "print(ad_stat)\n",
    "print(ad_critic)\n",
    "print(ad_teorico)\n",
    "\n",
    "if ad_stat < ad_critic[2]:\n",
    "    print('Com '+str(100-ad_teorico[2])+ '% de confiança, os dados são similares a uma distribuição normal segundo o teste de Anderson Darling.')\n",
    "else:\n",
    "    print('Com '+str(100-ad_teorico[2])+ '% de confiança, os dados Não são similares a uma distribuição normal segundo o teste de Anderson Darling.')\n",
    "\n",
    "    "
   ]
  },
  {
   "cell_type": "markdown",
   "metadata": {},
   "source": [
    "#### Segundo o Teste Anderson Darling meus dados não são normais."
   ]
  },
  {
   "cell_type": "markdown",
   "metadata": {},
   "source": [
    "### Testar Covariancia"
   ]
  },
  {
   "cell_type": "markdown",
   "metadata": {},
   "source": [
    "* Corr Spearman visto que meus dados não seguem distribuição normal"
   ]
  },
  {
   "cell_type": "code",
   "execution_count": 108,
   "metadata": {},
   "outputs": [
    {
     "data": {
      "image/png": "[encoded data removed]",
      "text/plain": [
       "<Figure size 720x504 with 2 Axes>"
      ]
     },
     "metadata": {
      "needs_background": "light"
     },
     "output_type": "display_data"
    }
   ],
   "source": [
    "plt.figure(figsize=(10, 7))\n",
    "sns.heatmap(Games_dados.corr(method='spearman'),annot = True,fmt = '.2f',cmap='Blues')\n",
    "plt.title('Correlação Spearman entre variáveis do dataset')\n",
    "plt.show()"
   ]
  },
  {
   "cell_type": "markdown",
   "metadata": {},
   "source": [
    "### Testes de Hipoteses"
   ]
  },
  {
   "cell_type": "markdown",
   "metadata": {},
   "source": [
    "* Perguntas sobre Hipotese 1 \n",
    "    * Jogos vendem mais de acordo com o genero? Quanto mais popular mais vendido será?\n",
    "\n",
    "#### Definindo Hipotese 1:\n",
    "    * Diferença de vendas entre os jogos, separados pelos generos , é significante?(Usar o mais popular x mais e/ou menos vendido)\n",
    "        _ Hipotese nula = não há diferença\n",
    "        _ Hipotese alternativa = Há diferença (Quanto mais popular o genero maior será as vendas)"
   ]
  },
  {
   "cell_type": "code",
   "execution_count": 109,
   "metadata": {},
   "outputs": [
    {
     "data": {
      "text/plain": [
       "count     55792\n",
       "unique       20\n",
       "top        Misc\n",
       "freq       9476\n",
       "Name: Genre, dtype: object"
      ]
     },
     "execution_count": 109,
     "metadata": {},
     "output_type": "execute_result"
    }
   ],
   "source": [
    "Games_dados.Genre.describe()"
   ]
  },
  {
   "cell_type": "code",
   "execution_count": 110,
   "metadata": {},
   "outputs": [
    {
     "data": {
      "text/plain": [
       "Genre\n",
       "Action              1919.920\n",
       "Sports              1753.400\n",
       "Shooter             1604.340\n",
       "Misc                1245.450\n",
       "Platform             869.830\n",
       "Role-Playing         856.480\n",
       "Racing               770.170\n",
       "Fighting             565.430\n",
       "Adventure            481.570\n",
       "Simulation           464.950\n",
       "Strategy             288.580\n",
       "Puzzle               279.240\n",
       "Action-Adventure     236.410\n",
       "Music                 61.650\n",
       "MMO                   18.160\n",
       "Sandbox               17.010\n",
       "Party                 12.005\n",
       "Visual Novel           6.390\n",
       "Board Game             2.480\n",
       "Education              1.080\n",
       "Name: Global_Sales_GenMed, dtype: float64"
      ]
     },
     "execution_count": 110,
     "metadata": {},
     "output_type": "execute_result"
    }
   ],
   "source": [
    "Games_dados.groupby('Genre')['Global_Sales_GenMed'].sum().sort_values(ascending=False)"
   ]
  },
  {
   "cell_type": "code",
   "execution_count": 111,
   "metadata": {},
   "outputs": [
    {
     "data": {
      "text/plain": [
       "Text(0.5, 1.0, 'Misc x Action')"
      ]
     },
     "execution_count": 111,
     "metadata": {},
     "output_type": "execute_result"
    },
    {
     "data": {
      "image/png": "[encoded data removed]",
      "text/plain": [
       "<Figure size 432x288 with 1 Axes>"
      ]
     },
     "metadata": {
      "needs_background": "light"
     },
     "output_type": "display_data"
    }
   ],
   "source": [
    "import seaborn as sns\n",
    "# mais popular no dataset\n",
    "dataMisc = Games_dados[Games_dados['Genre'] == 'Misc']['Global_Sales_GenMed']\n",
    "\n",
    "# mais vendido\n",
    "dataAction = Games_dados[Games_dados['Genre'] == 'Action']['Global_Sales_GenMed']\n",
    "\n",
    "# menos vendido\n",
    "dataEducation = Games_dados[Games_dados['Genre'] == 'Education']['Global_Sales_GenMed']\n",
    "\n",
    "\n",
    "sns.boxplot(data=[dataMisc, dataAction]).set_title('Misc x Action')"
   ]
  },
  {
   "cell_type": "code",
   "execution_count": 113,
   "metadata": {},
   "outputs": [
    {
     "data": {
      "text/plain": [
       "MannwhitneyuResult(statistic=14960284.5, pvalue=0.0)"
      ]
     },
     "execution_count": 113,
     "metadata": {},
     "output_type": "execute_result"
    }
   ],
   "source": [
    "stats.mannwhitneyu(dataMisc,dataAction)"
   ]
  },
  {
   "cell_type": "code",
   "execution_count": 114,
   "metadata": {},
   "outputs": [
    {
     "data": {
      "text/plain": [
       "Text(0.5, 1.0, 'Misc x Education')"
      ]
     },
     "execution_count": 114,
     "metadata": {},
     "output_type": "execute_result"
    },
    {
     "data": {
      "image/png": "[encoded data removed]",
      "text/plain": [
       "<Figure size 432x288 with 1 Axes>"
      ]
     },
     "metadata": {
      "needs_background": "light"
     },
     "output_type": "display_data"
    }
   ],
   "source": [
    "sns.boxplot(data=[dataMisc, dataEducation]).set_title('Misc x Education')"
   ]
  },
  {
   "cell_type": "code",
   "execution_count": 115,
   "metadata": {},
   "outputs": [
    {
     "data": {
      "text/plain": [
       "MannwhitneyuResult(statistic=56580.0, pvalue=0.4843553825980074)"
      ]
     },
     "execution_count": 115,
     "metadata": {},
     "output_type": "execute_result"
    }
   ],
   "source": [
    "stats.mannwhitneyu(dataMisc,dataEducation)"
   ]
  },
  {
   "cell_type": "markdown",
   "metadata": {},
   "source": [
    "#### Perguntas sobre Hipotese 2 \n",
    "    * Jogos vendem mais de acordo com a Plataforma ? Jogos da plataforma mais popular vendem mais?\n",
    "\n",
    "#### Definindo Hipotese 2:\n",
    "    * Diferentes Plataformas influenciam na quantidade de vendas?(usar a mais popular x mais e/ou menos vendida)\n",
    "        _ Hipotese nula = não há influencia \n",
    "        _ Hipotese alternativa = Há influencia (Dependendo da plataforma o jogo vende mais)"
   ]
  },
  {
   "cell_type": "code",
   "execution_count": 116,
   "metadata": {},
   "outputs": [
    {
     "data": {
      "text/plain": [
       "count     55792\n",
       "unique       74\n",
       "top          PC\n",
       "freq      10978\n",
       "Name: Platform, dtype: object"
      ]
     },
     "execution_count": 116,
     "metadata": {},
     "output_type": "execute_result"
    }
   ],
   "source": [
    "Games_dados.Platform.describe()"
   ]
  },
  {
   "cell_type": "code",
   "execution_count": 117,
   "metadata": {},
   "outputs": [
    {
     "name": "stdout",
     "output_type": "stream",
     "text": [
      "Plataformas mais vendidas  Platform\n",
      "PS2     1262.445\n",
      "PC      1215.250\n",
      "PS3      963.150\n",
      "X360     936.970\n",
      "PS       796.270\n",
      "Name: Global_Sales_GenMed, dtype: float64\n",
      "\n",
      " Plataformas menos vendidas  Platform\n",
      "C128    0.040\n",
      "Aco     0.090\n",
      "BBCM    0.090\n",
      "TG16    0.270\n",
      "CD32    0.335\n",
      "Name: Global_Sales_GenMed, dtype: float64\n"
     ]
    }
   ],
   "source": [
    "print('Plataformas mais vendidas ',Games_dados.groupby('Platform')['Global_Sales_GenMed'].sum().sort_values(ascending=False).head())\n",
    "\n",
    "print('\\n','Plataformas menos vendidas ',Games_dados.groupby('Platform')['Global_Sales_GenMed'].sum().sort_values(ascending = True).head())"
   ]
  },
  {
   "cell_type": "code",
   "execution_count": 118,
   "metadata": {},
   "outputs": [
    {
     "data": {
      "text/plain": [
       "Text(0.5, 1.0, 'PC x PS2')"
      ]
     },
     "execution_count": 118,
     "metadata": {},
     "output_type": "execute_result"
    },
    {
     "data": {
      "image/png": "[encoded data removed]",
      "text/plain": [
       "<Figure size 432x288 with 1 Axes>"
      ]
     },
     "metadata": {
      "needs_background": "light"
     },
     "output_type": "display_data"
    }
   ],
   "source": [
    "# mais popular no dataset\n",
    "dataPC = Games_dados[Games_dados['Platform'] == 'PC']['Global_Sales_GenMed']\n",
    "\n",
    "# mais vendido\n",
    "dataPS2 = Games_dados[Games_dados['Platform'] == 'PS2']['Global_Sales_GenMed']\n",
    "\n",
    "# menos vendido\n",
    "dataC128 = Games_dados[Games_dados['Platform'] == 'C128']['Global_Sales_GenMed']\n",
    "\n",
    "sns.boxplot(data=[dataPC, dataPS2]).set_title('PC x PS2')"
   ]
  },
  {
   "cell_type": "code",
   "execution_count": 119,
   "metadata": {},
   "outputs": [
    {
     "data": {
      "text/plain": [
       "MannwhitneyuResult(statistic=13327509.0, pvalue=1.6997402621346302e-182)"
      ]
     },
     "execution_count": 119,
     "metadata": {},
     "output_type": "execute_result"
    }
   ],
   "source": [
    "stats.mannwhitneyu(dataPC,dataPS2)"
   ]
  },
  {
   "cell_type": "code",
   "execution_count": 120,
   "metadata": {},
   "outputs": [
    {
     "data": {
      "text/plain": [
       "Text(0.5, 1.0, 'PC x C123')"
      ]
     },
     "execution_count": 120,
     "metadata": {},
     "output_type": "execute_result"
    },
    {
     "data": {
      "image/png": "[encoded data removed]",
      "text/plain": [
       "<Figure size 432x288 with 1 Axes>"
      ]
     },
     "metadata": {
      "needs_background": "light"
     },
     "output_type": "display_data"
    }
   ],
   "source": [
    "sns.boxplot(data=[dataPC, dataC128]).set_title('PC x C123')"
   ]
  },
  {
   "cell_type": "code",
   "execution_count": 121,
   "metadata": {},
   "outputs": [
    {
     "data": {
      "text/plain": [
       "MannwhitneyuResult(statistic=1964.0, pvalue=0.13122512224814448)"
      ]
     },
     "execution_count": 121,
     "metadata": {},
     "output_type": "execute_result"
    }
   ],
   "source": [
    "stats.mannwhitneyu(dataPC,dataC128)"
   ]
  },
  {
   "cell_type": "code",
   "execution_count": null,
   "metadata": {},
   "outputs": [],
   "source": []
  }
 ],
 "metadata": {
  "kernelspec": {
   "display_name": "Python 3",
   "language": "python",
   "name": "python3"
  },
  "language_info": {
   "codemirror_mode": {
    "name": "ipython",
    "version": 3
   },
   "file_extension": ".py",
   "mimetype": "text/x-python",
   "name": "python",
   "nbconvert_exporter": "python",
   "pygments_lexer": "ipython3",
   "version": "3.7.3"
  }
 },
 "nbformat": 4,
 "nbformat_minor": 2
}
