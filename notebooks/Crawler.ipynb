{
 "cells": [
  {
   "cell_type": "code",
   "execution_count": 1,
   "metadata": {},
   "outputs": [],
   "source": [
    "import pandas as pd\n",
    "import numpy as np\n",
    "import scipy as scp\n",
    "from bs4 import BeautifulSoup\n",
    "import requests as rq\n",
    "import re\n",
    "from requests.exceptions import HTTPError\n",
    "import urllib\n",
    "import urllib.request\n",
    "\n",
    "#from selenium import webdriver\n",
    "#from reppy.robots import Robots\n",
    "from urllib.parse import urlparse\n",
    "import time\n",
    "import operator"
   ]
  },
  {
   "cell_type": "code",
   "execution_count": 2,
   "metadata": {},
   "outputs": [],
   "source": [
    "page = 1\n",
    "linkraiz = 'https://www.vgchartz.com/games/games.php?name=&keyword=&console=&region=All&developer=&publisher=&goty_year=&genre=&boxart=Both&banner=Both&ownership=Both&showmultiplat=No&results=50&order=Sales&showtotalsales=0&showtotalsales=1&showpublisher=0&showpublisher=1&showvgchartzscore=0&showvgchartzscore=1&shownasales=0&shownasales=1&showdeveloper=0&showdeveloper=1&showcriticscore=0&showcriticscore=1&showpalsales=0&showpalsales=1&showreleasedate=0&showreleasedate=1&showuserscore=0&showuserscore=1&showjapansales=0&showjapansales=1&showlastupdate=0&showlastupdate=1&showothersales=0&showothersales=1&showshipped=0&showshipped='\n",
    "url = linkraiz + str(page)\n"
   ]
  },
  {
   "cell_type": "code",
   "execution_count": 3,
   "metadata": {},
   "outputs": [
    {
     "data": {
      "text/plain": [
       "'https://www.vgchartz.com/games/games.php?name=&keyword=&console=&region=All&developer=&publisher=&goty_year=&genre=&boxart=Both&banner=Both&ownership=Both&showmultiplat=No&results=50&order=Sales&showtotalsales=0&showtotalsales=1&showpublisher=0&showpublisher=1&showvgchartzscore=0&showvgchartzscore=1&shownasales=0&shownasales=1&showdeveloper=0&showdeveloper=1&showcriticscore=0&showcriticscore=1&showpalsales=0&showpalsales=1&showreleasedate=0&showreleasedate=1&showuserscore=0&showuserscore=1&showjapansales=0&showjapansales=1&showlastupdate=0&showlastupdate=1&showothersales=0&showothersales=1&showshipped=0&showshipped=1'"
      ]
     },
     "execution_count": 3,
     "metadata": {},
     "output_type": "execute_result"
    }
   ],
   "source": [
    "url"
   ]
  },
  {
   "cell_type": "code",
   "execution_count": 46,
   "metadata": {},
   "outputs": [],
   "source": [
    "codigo_fonte = rq.get(url,headers={'content-type': 'text/html'})"
   ]
  },
  {
   "cell_type": "code",
   "execution_count": 47,
   "metadata": {},
   "outputs": [
    {
     "data": {
      "text/plain": [
       "200"
      ]
     },
     "execution_count": 47,
     "metadata": {},
     "output_type": "execute_result"
    }
   ],
   "source": [
    "codigo_fonte.status_code"
   ]
  },
  {
   "cell_type": "code",
   "execution_count": 64,
   "metadata": {},
   "outputs": [],
   "source": [
    "texto = codigo_fonte.content\n",
    "soup = BeautifulSoup(texto,'html.parser')"
   ]
  },
  {
   "cell_type": "code",
   "execution_count": 65,
   "metadata": {},
   "outputs": [],
   "source": [
    "dados_Div = soup.find('div',id=\"generalBody\")"
   ]
  },
  {
   "cell_type": "code",
   "execution_count": 66,
   "metadata": {},
   "outputs": [
    {
     "data": {
      "text/plain": [
       "<div id=\"generalBody\">\n",
       "<table cellpadding=\"0\" cellspacing=\"0\" style=\"width:100%;\">\n",
       "<tr>\n",
       "<th align=\"left\" colspan=\"3\" style=\"color:white;\">Results: (58,430)</th>\n",
       "<th align=\"right\" colspan=\"14\" style=\"text-align:right;\"><span><a href=\"/games/games.php?page=1&amp;results=50&amp;name=&amp;console=&amp;keyword=&amp;publisher=&amp;genre=&amp;order=Sales&amp;ownership=Both&amp;boxart=Both&amp;banner=Both&amp;showdeleted=®ion=All&amp;goty_year=&amp;developer=&amp;direction=DESC&amp;showtotalsales=1&amp;shownasales=1&amp;showpalsales=1&amp;showjapansales=1&amp;showothersales=1&amp;showpublisher=1&amp;showdeveloper=1&amp;showreleasedate=1&amp;showlastupdate=1&amp;showvgchartzscore=1&amp;showcriticscore=1&amp;showuserscore=1&amp;showshipped=1&amp;alphasort=&amp;showmultiplat=No\"> &lt;&lt; </a></span></th></tr></table></div>"
      ]
     },
     "execution_count": 66,
     "metadata": {},
     "output_type": "execute_result"
    }
   ],
   "source": [
    "dados_Div"
   ]
  },
  {
   "cell_type": "code",
   "execution_count": 67,
   "metadata": {},
   "outputs": [
    {
     "name": "stdout",
     "output_type": "stream",
     "text": [
      "1\n"
     ]
    }
   ],
   "source": [
    "estatisticas_table = dados_Div.find_all(\"table\" ,style=True)\n",
    "print(len(estatisticas_table))"
   ]
  },
  {
   "cell_type": "code",
   "execution_count": 68,
   "metadata": {},
   "outputs": [
    {
     "data": {
      "text/plain": [
       "[<table cellpadding=\"0\" cellspacing=\"0\" style=\"width:100%;\">\n",
       " <tr>\n",
       " <th align=\"left\" colspan=\"3\" style=\"color:white;\">Results: (58,430)</th>\n",
       " <th align=\"right\" colspan=\"14\" style=\"text-align:right;\"><span><a href=\"/games/games.php?page=1&amp;results=50&amp;name=&amp;console=&amp;keyword=&amp;publisher=&amp;genre=&amp;order=Sales&amp;ownership=Both&amp;boxart=Both&amp;banner=Both&amp;showdeleted=®ion=All&amp;goty_year=&amp;developer=&amp;direction=DESC&amp;showtotalsales=1&amp;shownasales=1&amp;showpalsales=1&amp;showjapansales=1&amp;showothersales=1&amp;showpublisher=1&amp;showdeveloper=1&amp;showreleasedate=1&amp;showlastupdate=1&amp;showvgchartzscore=1&amp;showcriticscore=1&amp;showuserscore=1&amp;showshipped=1&amp;alphasort=&amp;showmultiplat=No\"> &lt;&lt; </a></span></th></tr></table>]"
      ]
     },
     "execution_count": 68,
     "metadata": {},
     "output_type": "execute_result"
    }
   ],
   "source": [
    "estatisticas_table"
   ]
  },
  {
   "cell_type": "code",
   "execution_count": 69,
   "metadata": {},
   "outputs": [
    {
     "data": {
      "text/plain": [
       "bs4.element.ResultSet"
      ]
     },
     "execution_count": 69,
     "metadata": {},
     "output_type": "execute_result"
    }
   ],
   "source": [
    "type(estatisticas_table)"
   ]
  },
  {
   "cell_type": "code",
   "execution_count": 70,
   "metadata": {},
   "outputs": [
    {
     "data": {
      "text/plain": [
       "bs4.element.Tag"
      ]
     },
     "execution_count": 70,
     "metadata": {},
     "output_type": "execute_result"
    }
   ],
   "source": [
    "estatisticas_table = estatisticas_table[0]\n",
    "type(estatisticas_table)"
   ]
  },
  {
   "cell_type": "code",
   "execution_count": 71,
   "metadata": {},
   "outputs": [],
   "source": [
    "for row in estatisticas_table.find_all(\"tr\", style=True):\n",
    "    for elem in row.find_all('td'):\n",
    "        print(elem.text)"
   ]
  },
  {
   "cell_type": "code",
   "execution_count": null,
   "metadata": {},
   "outputs": [],
   "source": []
  },
  {
   "cell_type": "code",
   "execution_count": null,
   "metadata": {},
   "outputs": [],
   "source": []
  }
 ],
 "metadata": {
  "kernelspec": {
   "display_name": "Python 3",
   "language": "python",
   "name": "python3"
  },
  "language_info": {
   "codemirror_mode": {
    "name": "ipython",
    "version": 3
   },
   "file_extension": ".py",
   "mimetype": "text/x-python",
   "name": "python",
   "nbconvert_exporter": "python",
   "pygments_lexer": "ipython3",
   "version": "3.7.3"
  }
 },
 "nbformat": 4,
 "nbformat_minor": 2
}
