{
 "cells": [
  {
   "cell_type": "code",
   "execution_count": 1,
   "metadata": {},
   "outputs": [
    {
     "name": "stdout",
     "output_type": "stream",
     "text": [
      "WARN: OMP_NUM_THREADS=None =>\n",
      "... If you are using openblas if you are using openblas set OMP_NUM_THREADS=1 or risk subprocess calls hanging indefinitely\n"
     ]
    }
   ],
   "source": [
    "# IMPORTS\n",
    "import numpy as np\n",
    "import hpsklearn\n",
    "import pandas as pd\n",
    "import numpy as np\n",
    "import seaborn as sns\n",
    "%matplotlib inline \n",
    "import matplotlib.pyplot as plt\n",
    "\n",
    "from hpsklearn import HyperoptEstimator\n",
    "from hpsklearn import any_classifier\n",
    "from hpsklearn import any_preprocessing\n",
    "from hyperopt import tpe\n",
    "import os\n",
    "os.environ['OMP_NUM_THREADS'] = \"1\""
   ]
  },
  {
   "cell_type": "code",
   "execution_count": 2,
   "metadata": {},
   "outputs": [],
   "source": [
    "Games_dados = pd.read_csv(\"../dados/GamesDados_v2.csv\")"
   ]
  },
  {
   "cell_type": "code",
   "execution_count": 3,
   "metadata": {},
   "outputs": [],
   "source": [
    "Games_dados['Vendas'] = Games_dados.Global_Sales_GenMed.map(lambda x: x > 0.999999 and 'Alto' or 'Baixo')"
   ]
  },
  {
   "cell_type": "code",
   "execution_count": 4,
   "metadata": {},
   "outputs": [],
   "source": [
    "variaveis_predicao = ['Code_Genre','Code_Platform','Global_Sales_GenMed']\n",
    "\n",
    "target = Games_dados['Vendas']\n",
    "X = Games_dados[variaveis_predicao].to_numpy()\n",
    "y = target.to_numpy()"
   ]
  },
  {
   "cell_type": "code",
   "execution_count": 5,
   "metadata": {},
   "outputs": [],
   "source": [
    "# Separação dos Dados teste,treinamento\n",
    "from sklearn.model_selection import train_test_split\n",
    "\n",
    "# Hiperparametros\n",
    "# test_size = 0.3 (30% dos dados para teste)\n",
    "test_size = 0.3\n",
    "# ramdom_state = Controls the shuffling applied to the data before applying the split\n",
    "random_state = 2021\n",
    "\n",
    "Xtrain, Xtest, ytrain, ytest = train_test_split(X, y,test_size=test_size ,random_state=random_state)"
   ]
  },
  {
   "cell_type": "code",
   "execution_count": 6,
   "metadata": {},
   "outputs": [
    {
     "name": "stdout",
     "output_type": "stream",
     "text": [
      "100%|██████████████████████████████████████████████████| 1/1 [00:14<00:00, 14.65s/trial, best loss: 0.0200998591729612]\n",
      "100%|███████████████████████████████████████████████| 2/2 [00:03<00:00,  3.73s/trial, best loss: 0.0005120983228780185]\n",
      "100%|███████████████████████████████████████████████| 3/3 [00:02<00:00,  2.80s/trial, best loss: 0.0005120983228780185]\n",
      "100%|███████████████████████████████████████████████| 4/4 [00:14<00:00, 14.89s/trial, best loss: 0.0005120983228780185]\n",
      "100%|██████████████████████████████████████████████| 5/5 [00:02<00:00,  2.75s/trial, best loss: 0.00025604916143895373]\n",
      "100%|██████████████████████████████████████████████| 6/6 [00:32<00:00, 32.46s/trial, best loss: 0.00025604916143895373]\n",
      "100%|██████████████████████████████████████████████| 7/7 [00:02<00:00,  2.60s/trial, best loss: 0.00025604916143895373]\n",
      "100%|██████████████████████████████████████████████| 8/8 [00:03<00:00,  3.40s/trial, best loss: 0.00025604916143895373]\n",
      "100%|█████████████████████████████████████████████████████████████████| 9/9 [00:04<00:00,  4.59s/trial, best loss: 0.0]\n",
      "100%|███████████████████████████████████████████████████████████████| 10/10 [00:02<00:00,  2.40s/trial, best loss: 0.0]\n",
      "100%|███████████████████████████████████████████████████████████████| 11/11 [00:02<00:00,  2.37s/trial, best loss: 0.0]\n",
      "100%|███████████████████████████████████████████████████████████████| 12/12 [00:02<00:00,  2.47s/trial, best loss: 0.0]\n",
      "100%|███████████████████████████████████████████████████████████████| 13/13 [00:02<00:00,  2.67s/trial, best loss: 0.0]\n",
      "100%|███████████████████████████████████████████████████████████████| 14/14 [00:02<00:00,  2.72s/trial, best loss: 0.0]\n",
      "100%|███████████████████████████████████████████████████████████████| 15/15 [00:02<00:00,  2.66s/trial, best loss: 0.0]\n",
      "100%|███████████████████████████████████████████████████████████████| 16/16 [00:11<00:00, 11.37s/trial, best loss: 0.0]\n",
      "100%|███████████████████████████████████████████████████████████████| 17/17 [00:14<00:00, 14.16s/trial, best loss: 0.0]\n",
      "100%|███████████████████████████████████████████████████████████████| 18/18 [00:04<00:00,  4.28s/trial, best loss: 0.0]\n",
      "100%|███████████████████████████████████████████████████████████████| 19/19 [00:17<00:00, 17.04s/trial, best loss: 0.0]\n",
      "100%|███████████████████████████████████████████████████████████████| 20/20 [00:03<00:00,  3.39s/trial, best loss: 0.0]\n",
      "100%|███████████████████████████████████████████████████████████████| 21/21 [00:04<00:00,  4.27s/trial, best loss: 0.0]\n",
      "100%|███████████████████████████████████████████████████████████████| 22/22 [00:04<00:00,  4.15s/trial, best loss: 0.0]\n",
      "100%|███████████████████████████████████████████████████████████████| 23/23 [00:02<00:00,  2.63s/trial, best loss: 0.0]\n",
      "100%|███████████████████████████████████████████████████████████████| 24/24 [00:02<00:00,  2.85s/trial, best loss: 0.0]\n",
      "100%|███████████████████████████████████████████████████████████████| 25/25 [00:09<00:00,  9.36s/trial, best loss: 0.0]\n",
      "100%|███████████████████████████████████████████████████████████████| 26/26 [00:02<00:00,  2.80s/trial, best loss: 0.0]\n",
      "100%|███████████████████████████████████████████████████████████████| 27/27 [00:02<00:00,  2.61s/trial, best loss: 0.0]\n",
      "100%|███████████████████████████████████████████████████████████████| 28/28 [00:02<00:00,  2.61s/trial, best loss: 0.0]\n",
      "100%|███████████████████████████████████████████████████████████████| 29/29 [00:02<00:00,  2.57s/trial, best loss: 0.0]\n",
      "100%|███████████████████████████████████████████████████████████████| 30/30 [00:02<00:00,  2.72s/trial, best loss: 0.0]\n",
      "100%|███████████████████████████████████████████████████████████████| 31/31 [00:02<00:00,  2.60s/trial, best loss: 0.0]\n",
      "100%|███████████████████████████████████████████████████████████████| 32/32 [00:02<00:00,  2.82s/trial, best loss: 0.0]\n",
      "100%|███████████████████████████████████████████████████████████████| 33/33 [00:17<00:00, 17.81s/trial, best loss: 0.0]\n",
      "100%|███████████████████████████████████████████████████████████████| 34/34 [00:19<00:00, 19.13s/trial, best loss: 0.0]\n",
      "100%|███████████████████████████████████████████████████████████████| 35/35 [00:09<00:00,  9.20s/trial, best loss: 0.0]\n",
      "100%|███████████████████████████████████████████████████████████████| 36/36 [00:03<00:00,  3.65s/trial, best loss: 0.0]\n",
      "100%|███████████████████████████████████████████████████████████████| 37/37 [00:07<00:00,  7.34s/trial, best loss: 0.0]\n",
      "100%|███████████████████████████████████████████████████████████████| 38/38 [00:04<00:00,  4.34s/trial, best loss: 0.0]\n",
      "100%|███████████████████████████████████████████████████████████████| 39/39 [00:02<00:00,  2.38s/trial, best loss: 0.0]\n",
      "100%|███████████████████████████████████████████████████████████████| 40/40 [00:11<00:00, 11.82s/trial, best loss: 0.0]\n",
      "100%|███████████████████████████████████████████████████████████████| 41/41 [00:02<00:00,  2.39s/trial, best loss: 0.0]\n",
      "100%|███████████████████████████████████████████████████████████████| 42/42 [00:24<00:00, 24.15s/trial, best loss: 0.0]\n",
      "100%|███████████████████████████████████████████████████████████████| 43/43 [00:03<00:00,  3.41s/trial, best loss: 0.0]\n",
      "100%|███████████████████████████████████████████████████████████████| 44/44 [00:04<00:00,  4.13s/trial, best loss: 0.0]\n",
      "100%|███████████████████████████████████████████████████████████████| 45/45 [00:02<00:00,  2.82s/trial, best loss: 0.0]\n",
      "100%|███████████████████████████████████████████████████████████████| 46/46 [00:18<00:00, 18.25s/trial, best loss: 0.0]\n",
      "100%|███████████████████████████████████████████████████████████████| 47/47 [00:07<00:00,  7.70s/trial, best loss: 0.0]\n",
      "100%|███████████████████████████████████████████████████████████████| 48/48 [00:02<00:00,  2.49s/trial, best loss: 0.0]\n",
      "100%|███████████████████████████████████████████████████████████████| 49/49 [00:02<00:00,  2.46s/trial, best loss: 0.0]\n",
      "100%|███████████████████████████████████████████████████████████████| 50/50 [00:06<00:00,  6.16s/trial, best loss: 0.0]\n"
     ]
    }
   ],
   "source": [
    "model = HyperoptEstimator(classifier=any_classifier('cla'), \n",
    "                          preprocessing=any_preprocessing('pre'), \n",
    "                          algo=tpe.suggest, \n",
    "                          max_evals=50, \n",
    "                          trial_timeout=30)\n",
    "\n",
    "model.fit(Xtrain,ytrain)"
   ]
  },
  {
   "cell_type": "code",
   "execution_count": 10,
   "metadata": {},
   "outputs": [],
   "source": [
    "# Make a prediction using the optimized model\n",
    "prediction = model.predict(Xtest)"
   ]
  },
  {
   "cell_type": "code",
   "execution_count": 11,
   "metadata": {},
   "outputs": [
    {
     "data": {
      "text/plain": [
       "array(['Baixo', 'Baixo', 'Baixo', ..., 'Baixo', 'Baixo', 'Baixo'],\n",
       "      dtype=object)"
      ]
     },
     "execution_count": 11,
     "metadata": {},
     "output_type": "execute_result"
    }
   ],
   "source": [
    "prediction"
   ]
  },
  {
   "cell_type": "code",
   "execution_count": 8,
   "metadata": {},
   "outputs": [
    {
     "name": "stdout",
     "output_type": "stream",
     "text": [
      "1.0\n"
     ]
    }
   ],
   "source": [
    "acc = model.score(Xtest,ytest)\n",
    "print(acc)"
   ]
  },
  {
   "cell_type": "code",
   "execution_count": 9,
   "metadata": {},
   "outputs": [
    {
     "name": "stdout",
     "output_type": "stream",
     "text": [
      "{'learner': RandomForestClassifier(bootstrap=False, class_weight=None, criterion='entropy',\n",
      "                       max_depth=None, max_features='log2', max_leaf_nodes=None,\n",
      "                       min_impurity_decrease=0.0, min_impurity_split=None,\n",
      "                       min_samples_leaf=18, min_samples_split=2,\n",
      "                       min_weight_fraction_leaf=0.0, n_estimators=352, n_jobs=1,\n",
      "                       oob_score=False, random_state=1, verbose=False,\n",
      "                       warm_start=False), 'preprocs': (StandardScaler(copy=True, with_mean=True, with_std=True),), 'ex_preprocs': ()}\n"
     ]
    }
   ],
   "source": [
    "print(model.best_model())"
   ]
  },
  {
   "cell_type": "code",
   "execution_count": null,
   "metadata": {},
   "outputs": [],
   "source": []
  }
 ],
 "metadata": {
  "kernelspec": {
   "display_name": "Python 3",
   "language": "python",
   "name": "python3"
  },
  "language_info": {
   "codemirror_mode": {
    "name": "ipython",
    "version": 3
   },
   "file_extension": ".py",
   "mimetype": "text/x-python",
   "name": "python",
   "nbconvert_exporter": "python",
   "pygments_lexer": "ipython3",
   "version": "3.7.3"
  }
 },
 "nbformat": 4,
 "nbformat_minor": 2
}
